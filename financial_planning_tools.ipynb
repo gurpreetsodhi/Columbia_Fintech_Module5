{
 "cells": [
  {
   "cell_type": "markdown",
   "metadata": {},
   "source": [
    "# Financial Planning with APIs and Simulations\n",
    "\n",
    "In this Challenge, you’ll create two financial analysis tools by using a single Jupyter notebook:\n",
    "\n",
    "Part 1: A financial planner for emergencies. The members will be able to use this tool to visualize their current savings. The members can then determine if they have enough reserves for an emergency fund.\n",
    "\n",
    "Part 2: A financial planner for retirement. This tool will forecast the performance of their retirement portfolio in 30 years. To do this, the tool will make an Alpaca API call via the Alpaca SDK to get historical price data for use in Monte Carlo simulations.\n",
    "\n",
    "You’ll use the information from the Monte Carlo simulation to answer questions about the portfolio in your Jupyter notebook.\n",
    "\n"
   ]
  },
  {
   "cell_type": "code",
   "execution_count": 1,
   "metadata": {},
   "outputs": [],
   "source": [
    "# Import the required libraries and dependencies\n",
    "import os\n",
    "import requests\n",
    "import json\n",
    "import pandas as pd\n",
    "from dotenv import load_dotenv\n",
    "import alpaca_trade_api as tradeapi\n",
    "from MCForecastTools import MCSimulation\n",
    "\n",
    "%matplotlib inline"
   ]
  },
  {
   "cell_type": "code",
   "execution_count": 43,
   "metadata": {},
   "outputs": [
    {
     "data": {
      "text/plain": [
       "True"
      ]
     },
     "execution_count": 43,
     "metadata": {},
     "output_type": "execute_result"
    }
   ],
   "source": [
    "# Load the environment variables from the .env file\n",
    "#by calling the load_dotenv function\n",
    "load_dotenv()"
   ]
  },
  {
   "cell_type": "markdown",
   "metadata": {},
   "source": [
    "## Part 1: Create a Financial Planner for Emergencies"
   ]
  },
  {
   "cell_type": "markdown",
   "metadata": {},
   "source": [
    "### Evaluate the Cryptocurrency Wallet by Using the Requests Library\n",
    "\n",
    "In this section, you’ll determine the current value of a member’s cryptocurrency wallet. You’ll collect the current prices for the Bitcoin and Ethereum cryptocurrencies by using the Python Requests library. For the prototype, you’ll assume that the member holds the 1.2 Bitcoins (BTC) and 5.3 Ethereum coins (ETH). To do all this, complete the following steps:\n",
    "\n",
    "1. Create a variable named `monthly_income`, and set its value to `12000`.\n",
    "\n",
    "2. Use the Requests library to get the current price (in US dollars) of Bitcoin (BTC) and Ethereum (ETH) by using the API endpoints that the starter code supplies.\n",
    "\n",
    "3. Navigate the JSON response object to access the current price of each coin, and store each in a variable.\n",
    "\n",
    "    > **Hint** Note the specific identifier for each cryptocurrency in the API JSON response. The Bitcoin identifier is `1`, and the Ethereum identifier is `1027`.\n",
    "\n",
    "4. Calculate the value, in US dollars, of the current amount of each cryptocurrency and of the entire cryptocurrency wallet.\n",
    "\n"
   ]
  },
  {
   "cell_type": "code",
   "execution_count": 19,
   "metadata": {},
   "outputs": [],
   "source": [
    "# The current number of coins for each cryptocurrency asset held in the portfolio.\n",
    "btc_coins = 1.2\n",
    "eth_coins = 5.3"
   ]
  },
  {
   "cell_type": "markdown",
   "metadata": {},
   "source": [
    "#### Step 1: Create a variable named `monthly_income`, and set its value to `12000`."
   ]
  },
  {
   "cell_type": "code",
   "execution_count": 3,
   "metadata": {},
   "outputs": [],
   "source": [
    "# The monthly amount for the member's household income\n",
    "monthly_income = 12000\n"
   ]
  },
  {
   "cell_type": "markdown",
   "metadata": {},
   "source": [
    "#### Review the endpoint URLs for the API calls to Free Crypto API in order to get the current pricing information for both BTC and ETH."
   ]
  },
  {
   "cell_type": "code",
   "execution_count": 4,
   "metadata": {},
   "outputs": [],
   "source": [
    "# The Free Crypto API Call endpoint URLs for the held cryptocurrency assets\n",
    "btc_url = \"https://api.alternative.me/v2/ticker/Bitcoin/?convert=USD\"\n",
    "eth_url = \"https://api.alternative.me/v2/ticker/Ethereum/?convert=USD\""
   ]
  },
  {
   "cell_type": "markdown",
   "metadata": {},
   "source": [
    "#### Step 2. Use the Requests library to get the current price (in US dollars) of Bitcoin (BTC) and Ethereum (ETH) by using the API endpoints that the starter code supplied."
   ]
  },
  {
   "cell_type": "code",
   "execution_count": 7,
   "metadata": {},
   "outputs": [
    {
     "name": "stdout",
     "output_type": "stream",
     "text": [
      "{\n",
      "    \"data\": {\n",
      "        \"1\": {\n",
      "            \"circulating_supply\": 18935356,\n",
      "            \"id\": 1,\n",
      "            \"last_updated\": 1642700052,\n",
      "            \"max_supply\": 21000000,\n",
      "            \"name\": \"Bitcoin\",\n",
      "            \"quotes\": {\n",
      "                \"USD\": {\n",
      "                    \"market_cap\": 818104579208,\n",
      "                    \"percent_change_1h\": -0.114748100396886,\n",
      "                    \"percent_change_24h\": 2.45720155134809,\n",
      "                    \"percent_change_7d\": -1.62713389100511,\n",
      "                    \"percentage_change_1h\": -0.114748100396886,\n",
      "                    \"percentage_change_24h\": 2.45720155134809,\n",
      "                    \"percentage_change_7d\": -1.62713389100511,\n",
      "                    \"price\": 43266.0,\n",
      "                    \"volume_24h\": 17526953760\n",
      "                }\n",
      "            },\n",
      "            \"rank\": 1,\n",
      "            \"symbol\": \"BTC\",\n",
      "            \"total_supply\": 18935356,\n",
      "            \"website_slug\": \"bitcoin\"\n",
      "        }\n",
      "    },\n",
      "    \"metadata\": {\n",
      "        \"error\": null,\n",
      "        \"num_cryptocurrencies\": 3105,\n",
      "        \"timestamp\": 1642700052\n",
      "    }\n",
      "}\n"
     ]
    }
   ],
   "source": [
    "# Using the Python requests library, make an API call to access the current price of BTC\n",
    "btc_response = requests.get(btc_url).json()\n",
    "\n",
    "# Use the json.dumps function to review the response data from the API call\n",
    "# Use the indent and sort_keys parameters to make the response object readable\n",
    "print(json.dumps(btc_response, indent=4, sort_keys=True))\n"
   ]
  },
  {
   "cell_type": "code",
   "execution_count": 8,
   "metadata": {},
   "outputs": [
    {
     "name": "stdout",
     "output_type": "stream",
     "text": [
      "{\n",
      "    \"data\": {\n",
      "        \"1027\": {\n",
      "            \"circulating_supply\": 119240322,\n",
      "            \"id\": 1027,\n",
      "            \"last_updated\": 1642700317,\n",
      "            \"max_supply\": 0,\n",
      "            \"name\": \"Ethereum\",\n",
      "            \"quotes\": {\n",
      "                \"USD\": {\n",
      "                    \"market_cap\": 386810114876,\n",
      "                    \"percent_change_1h\": -0.105695372289812,\n",
      "                    \"percent_change_24h\": 3.66322627717575,\n",
      "                    \"percent_change_7d\": -3.85828422955418,\n",
      "                    \"percentage_change_1h\": -0.105695372289812,\n",
      "                    \"percentage_change_24h\": 3.66322627717575,\n",
      "                    \"percentage_change_7d\": -3.85828422955418,\n",
      "                    \"price\": 3247.7,\n",
      "                    \"volume_24h\": 10819377844\n",
      "                }\n",
      "            },\n",
      "            \"rank\": 2,\n",
      "            \"symbol\": \"ETH\",\n",
      "            \"total_supply\": 119240322,\n",
      "            \"website_slug\": \"ethereum\"\n",
      "        }\n",
      "    },\n",
      "    \"metadata\": {\n",
      "        \"error\": null,\n",
      "        \"num_cryptocurrencies\": 3105,\n",
      "        \"timestamp\": 1642700317\n",
      "    }\n",
      "}\n"
     ]
    }
   ],
   "source": [
    "# Using the Python requests library, make an API call to access the current price ETH\n",
    "eth_response = requests.get(eth_url).json()\n",
    "\n",
    "# Use the json.dumps function to review the response data from the API call\n",
    "# Use the indent and sort_keys parameters to make the response object readable\n",
    "print(json.dumps(eth_response, indent=4, sort_keys=True))\n"
   ]
  },
  {
   "cell_type": "markdown",
   "metadata": {},
   "source": [
    "#### Step 3: Navigate the JSON response object to access the current price of each coin, and store each in a variable."
   ]
  },
  {
   "cell_type": "code",
   "execution_count": 14,
   "metadata": {},
   "outputs": [
    {
     "name": "stdout",
     "output_type": "stream",
     "text": [
      "The current Bitcoin price is 43266.0\n"
     ]
    }
   ],
   "source": [
    "# Navigate the BTC response object to access the current price of BTC\n",
    "btc_price = btc_response['data']['1']['quotes']['USD']['price']\n",
    "\n",
    "# Print the current price of BTC\n",
    "print(f\"The current Bitcoin price is {btc_price}\")\n"
   ]
  },
  {
   "cell_type": "code",
   "execution_count": 16,
   "metadata": {},
   "outputs": [
    {
     "name": "stdout",
     "output_type": "stream",
     "text": [
      "The current Ethereum price is 3247.7\n"
     ]
    }
   ],
   "source": [
    "# Navigate the BTC response object to access the current price of ETH\n",
    "eth_price = eth_response['data']['1027']['quotes']['USD']['price']\n",
    "\n",
    "# Print the current price of ETH\n",
    "print(f\"The current Ethereum price is {eth_price}\")\n"
   ]
  },
  {
   "cell_type": "markdown",
   "metadata": {},
   "source": [
    "### Step 4: Calculate the value, in US dollars, of the current amount of each cryptocurrency and of the entire cryptocurrency wallet."
   ]
  },
  {
   "cell_type": "code",
   "execution_count": 24,
   "metadata": {},
   "outputs": [
    {
     "name": "stdout",
     "output_type": "stream",
     "text": [
      "The current value of BTC holdings is $51919\n"
     ]
    }
   ],
   "source": [
    "# Compute the current value of the BTC holding \n",
    "btc_value = btc_coins * btc_price\n",
    "\n",
    "# Print current value of your holding in BTC\n",
    "print(f\"The current value of BTC holdings is ${round(btc_value)}\")\n"
   ]
  },
  {
   "cell_type": "code",
   "execution_count": 25,
   "metadata": {},
   "outputs": [
    {
     "name": "stdout",
     "output_type": "stream",
     "text": [
      "The current value of ETH holdings is $17213\n"
     ]
    }
   ],
   "source": [
    "# Compute the current value of the ETH holding \n",
    "eth_value = eth_coins * eth_price\n",
    "\n",
    "# Print current value of your holding in ETH\n",
    "print(f\"The current value of ETH holdings is ${round(eth_value)}\")\n"
   ]
  },
  {
   "cell_type": "code",
   "execution_count": 26,
   "metadata": {},
   "outputs": [
    {
     "name": "stdout",
     "output_type": "stream",
     "text": [
      "The current cryptocurreny wallet balance is $69132\n"
     ]
    }
   ],
   "source": [
    "# Compute the total value of the cryptocurrency wallet\n",
    "# Add the value of the BTC holding to the value of the ETH holding\n",
    "total_crypto_wallet = btc_value + eth_value\n",
    "\n",
    "# Print current cryptocurrency wallet balance\n",
    "print(f\"The current cryptocurreny wallet balance is ${round(total_crypto_wallet)}\")\n"
   ]
  },
  {
   "cell_type": "markdown",
   "metadata": {
    "tags": []
   },
   "source": [
    "### Evaluate the Stock and Bond Holdings by Using the Alpaca SDK\n",
    "\n",
    "In this section, you’ll determine the current value of a member’s stock and bond holdings. You’ll make an API call to Alpaca via the Alpaca SDK to get the current closing prices of the SPDR S&P 500 ETF Trust (ticker: SPY) and of the iShares Core US Aggregate Bond ETF (ticker: AGG). For the prototype, assume that the member holds 110 shares of SPY, which represents the stock portion of their portfolio, and 200 shares of AGG, which represents the bond portion. To do all this, complete the following steps:\n",
    "\n",
    "1. In the `Starter_Code` folder, create an environment file (`.env`) to store the values of your Alpaca API key and Alpaca secret key.\n",
    "\n",
    "2. Set the variables for the Alpaca API and secret keys. Using the Alpaca SDK, create the Alpaca `tradeapi.REST` object. In this object, include the parameters for the Alpaca API key, the secret key, and the version number.\n",
    "\n",
    "3. Set the following parameters for the Alpaca API call:\n",
    "\n",
    "    - `tickers`: Use the tickers for the member’s stock and bond holdings.\n",
    "\n",
    "    - `timeframe`: Use a time frame of one day.\n",
    "\n",
    "    - `start_date` and `end_date`: Use the same date for these parameters, and format them with the date of the previous weekday (or `2020-08-07`). This is because you want the one closing price for the most-recent trading day.\n",
    "\n",
    "4. Get the current closing prices for `SPY` and `AGG` by using the Alpaca `get_barset` function. Format the response as a Pandas DataFrame by including the `df` property at the end of the `get_barset` function.\n",
    "\n",
    "5. Navigating the Alpaca response DataFrame, select the `SPY` and `AGG` closing prices, and store them as variables.\n",
    "\n",
    "6. Calculate the value, in US dollars, of the current amount of shares in each of the stock and bond portions of the portfolio, and print the results.\n"
   ]
  },
  {
   "cell_type": "markdown",
   "metadata": {},
   "source": [
    "#### Review the total number of shares held in both (SPY) and (AGG)."
   ]
  },
  {
   "cell_type": "code",
   "execution_count": 38,
   "metadata": {},
   "outputs": [],
   "source": [
    "# Current amount of shares held in both the stock (SPY) and bond (AGG) portion of the portfolio.\n",
    "spy_shares = 110\n",
    "agg_shares = 200\n"
   ]
  },
  {
   "cell_type": "markdown",
   "metadata": {},
   "source": [
    "#### Step 1: In the `Starter_Code` folder, create an environment file (`.env`) to store the values of your Alpaca API key and Alpaca secret key."
   ]
  },
  {
   "cell_type": "markdown",
   "metadata": {},
   "source": [
    "#### Step 2: Set the variables for the Alpaca API and secret keys. Using the Alpaca SDK, create the Alpaca `tradeapi.REST` object. In this object, include the parameters for the Alpaca API key, the secret key, and the version number."
   ]
  },
  {
   "cell_type": "code",
   "execution_count": 50,
   "metadata": {},
   "outputs": [
    {
     "data": {
      "text/plain": [
       "str"
      ]
     },
     "metadata": {},
     "output_type": "display_data"
    },
    {
     "data": {
      "text/plain": [
       "str"
      ]
     },
     "metadata": {},
     "output_type": "display_data"
    }
   ],
   "source": [
    "# Set the variables for the Alpaca API and secret keys\n",
    "alpaca_api_key = os.getenv('ALPACA_API_KEY')\n",
    "alpaca_secret_key = os.getenv('ALPACA_SECRET_KEY')\n",
    "\n",
    "display(type(alpaca_api_key))\n",
    "display(type(alpaca_secret_key))\n",
    "\n",
    "# Create the Alpaca tradeapi.REST object\n",
    "alpaca = tradeapi.REST(alpaca_api_key, alpaca_secret_key, api_version='v2')\n"
   ]
  },
  {
   "cell_type": "markdown",
   "metadata": {},
   "source": [
    "#### Step 3: Set the following parameters for the Alpaca API call:\n",
    "\n",
    "- `tickers`: Use the tickers for the member’s stock and bond holdings.\n",
    "\n",
    "- `timeframe`: Use a time frame of one day.\n",
    "\n",
    "- `start_date` and `end_date`: Use the same date for these parameters, and format them with the date of the previous weekday (or `2020-08-07`). This is because you want the one closing price for the most-recent trading day.\n"
   ]
  },
  {
   "cell_type": "code",
   "execution_count": 54,
   "metadata": {},
   "outputs": [
    {
     "data": {
      "text/plain": [
       "'2020-08-07T00:00:00-04:00'"
      ]
     },
     "metadata": {},
     "output_type": "display_data"
    },
    {
     "data": {
      "text/plain": [
       "'2020-08-07T00:00:00-04:00'"
      ]
     },
     "metadata": {},
     "output_type": "display_data"
    }
   ],
   "source": [
    "# Set the tickers for both the bond and stock portion of the portfolio\n",
    "tickers = ['SPY','AGG']\n",
    "\n",
    "# Set timeframe to 1D \n",
    "timeframe = '1D'\n",
    "\n",
    "# Format current date as ISO format\n",
    "# Set both the start and end date at the date of your prior weekday \n",
    "# This will give you the closing price of the previous trading day\n",
    "# Alternatively you can use a start and end date of 2020-08-07\n",
    "start_date = pd.Timestamp('2020-08-07', tz='America/New_York').isoformat()\n",
    "end_date = pd.Timestamp('2020-08-07', tz='America/New_York').isoformat()\n",
    "\n",
    "display(start_date)\n",
    "display(end_date)"
   ]
  },
  {
   "cell_type": "markdown",
   "metadata": {},
   "source": [
    "#### Step 4: Get the current closing prices for `SPY` and `AGG` by using the Alpaca `get_barset` function. Format the response as a Pandas DataFrame by including the `df` property at the end of the `get_barset` function."
   ]
  },
  {
   "cell_type": "code",
   "execution_count": 57,
   "metadata": {},
   "outputs": [
    {
     "data": {
      "text/html": [
       "<div>\n",
       "<style scoped>\n",
       "    .dataframe tbody tr th:only-of-type {\n",
       "        vertical-align: middle;\n",
       "    }\n",
       "\n",
       "    .dataframe tbody tr th {\n",
       "        vertical-align: top;\n",
       "    }\n",
       "\n",
       "    .dataframe thead tr th {\n",
       "        text-align: left;\n",
       "    }\n",
       "\n",
       "    .dataframe thead tr:last-of-type th {\n",
       "        text-align: right;\n",
       "    }\n",
       "</style>\n",
       "<table border=\"1\" class=\"dataframe\">\n",
       "  <thead>\n",
       "    <tr>\n",
       "      <th></th>\n",
       "      <th colspan=\"5\" halign=\"left\">AGG</th>\n",
       "      <th colspan=\"5\" halign=\"left\">SPY</th>\n",
       "    </tr>\n",
       "    <tr>\n",
       "      <th></th>\n",
       "      <th>open</th>\n",
       "      <th>high</th>\n",
       "      <th>low</th>\n",
       "      <th>close</th>\n",
       "      <th>volume</th>\n",
       "      <th>open</th>\n",
       "      <th>high</th>\n",
       "      <th>low</th>\n",
       "      <th>close</th>\n",
       "      <th>volume</th>\n",
       "    </tr>\n",
       "    <tr>\n",
       "      <th>time</th>\n",
       "      <th></th>\n",
       "      <th></th>\n",
       "      <th></th>\n",
       "      <th></th>\n",
       "      <th></th>\n",
       "      <th></th>\n",
       "      <th></th>\n",
       "      <th></th>\n",
       "      <th></th>\n",
       "      <th></th>\n",
       "    </tr>\n",
       "  </thead>\n",
       "  <tbody>\n",
       "    <tr>\n",
       "      <th>2020-08-07 00:00:00-04:00</th>\n",
       "      <td>119.66</td>\n",
       "      <td>119.73</td>\n",
       "      <td>119.395</td>\n",
       "      <td>119.445</td>\n",
       "      <td>8830420</td>\n",
       "      <td>333.28</td>\n",
       "      <td>334.88</td>\n",
       "      <td>332.3</td>\n",
       "      <td>334.55</td>\n",
       "      <td>98710236</td>\n",
       "    </tr>\n",
       "  </tbody>\n",
       "</table>\n",
       "</div>"
      ],
      "text/plain": [
       "                              AGG                                        SPY  \\\n",
       "                             open    high      low    close   volume    open   \n",
       "time                                                                           \n",
       "2020-08-07 00:00:00-04:00  119.66  119.73  119.395  119.445  8830420  333.28   \n",
       "\n",
       "                                                            \n",
       "                             high    low   close    volume  \n",
       "time                                                        \n",
       "2020-08-07 00:00:00-04:00  334.88  332.3  334.55  98710236  "
      ]
     },
     "execution_count": 57,
     "metadata": {},
     "output_type": "execute_result"
    }
   ],
   "source": [
    "# Use the Alpaca get_barset function to get current closing prices the portfolio\n",
    "# Be sure to set the `df` property after the function to format the response object as a DataFrame\n",
    "closing_prices_df = alpaca.get_barset(tickers, timeframe, start=start_date, end=end_date).df\n",
    "\n",
    "# Review the first 5 rows of the Alpaca DataFrame\n",
    "closing_prices_df.head()\n"
   ]
  },
  {
   "cell_type": "markdown",
   "metadata": {},
   "source": [
    "#### Step 5: Navigating the Alpaca response DataFrame, select the `SPY` and `AGG` closing prices, and store them as variables."
   ]
  },
  {
   "cell_type": "code",
   "execution_count": 58,
   "metadata": {},
   "outputs": [
    {
     "data": {
      "text/plain": [
       "119.445"
      ]
     },
     "execution_count": 58,
     "metadata": {},
     "output_type": "execute_result"
    }
   ],
   "source": [
    "# Access the closing price for AGG from the Alpaca DataFrame\n",
    "# Converting the value to a floating point number\n",
    "agg_closing_price = float(closing_prices_df['AGG']['close'])\n",
    "\n",
    "# Print the AGG closing price\n",
    "agg_closing_price\n"
   ]
  },
  {
   "cell_type": "code",
   "execution_count": 60,
   "metadata": {},
   "outputs": [
    {
     "data": {
      "text/plain": [
       "334.55"
      ]
     },
     "execution_count": 60,
     "metadata": {},
     "output_type": "execute_result"
    }
   ],
   "source": [
    "# Access the closing price for SPY from the Alpaca DataFrame\n",
    "# Converting the value to a floating point number\n",
    "spy_closing_price = float(closing_prices_df['SPY']['close'])\n",
    "\n",
    "# Print the SPY closing price\n",
    "spy_closing_price"
   ]
  },
  {
   "cell_type": "markdown",
   "metadata": {},
   "source": [
    "#### Step 6: Calculate the value, in US dollars, of the current amount of shares in each of the stock and bond portions of the portfolio, and print the results."
   ]
  },
  {
   "cell_type": "code",
   "execution_count": 61,
   "metadata": {},
   "outputs": [
    {
     "name": "stdout",
     "output_type": "stream",
     "text": [
      "The current value of bond portfolio is $23889\n"
     ]
    }
   ],
   "source": [
    "# Calculate the current value of the bond portion of the portfolio\n",
    "agg_value = agg_shares * agg_closing_price\n",
    "\n",
    "# Print the current value of the bond portfolio\n",
    "print(f\"The current value of bond portfolio is ${round(agg_value)}\")\n"
   ]
  },
  {
   "cell_type": "code",
   "execution_count": 62,
   "metadata": {},
   "outputs": [
    {
     "name": "stdout",
     "output_type": "stream",
     "text": [
      "The current value of stock portfolio is $36800\n"
     ]
    }
   ],
   "source": [
    "# Calculate the current value of the stock portion of the portfolio\n",
    "spy_value = spy_shares * spy_closing_price\n",
    "\n",
    "# Print the current value of the stock portfolio\n",
    "print(f\"The current value of stock portfolio is ${round(spy_value)}\")\n"
   ]
  },
  {
   "cell_type": "code",
   "execution_count": 69,
   "metadata": {},
   "outputs": [
    {
     "name": "stdout",
     "output_type": "stream",
     "text": [
      "The current balance of the stock and bond portfolio is $60690\n"
     ]
    }
   ],
   "source": [
    "# Calculate the total value of the stock and bond portion of the portfolio\n",
    "total_stocks_bonds = agg_value + spy_value\n",
    "\n",
    "# Print the current balance of the stock and bond portion of the portfolio\n",
    "print(f\"The current balance of the stock and bond portfolio is ${round(total_stocks_bonds)}\")\n"
   ]
  },
  {
   "cell_type": "code",
   "execution_count": 66,
   "metadata": {},
   "outputs": [
    {
     "name": "stdout",
     "output_type": "stream",
     "text": [
      "The current cryptocurreny wallet balance is $69132\n",
      "The current balance of the stock and bond portfolio is $60690\n",
      "The current balance of the crypto, stock and bond portfolio is $129822\n"
     ]
    }
   ],
   "source": [
    "# Calculate the total value of the member's entire savings portfolio\n",
    "# Add the value of the cryptocurrency walled to the value of the total stocks and bonds\n",
    "total_portfolio = total_crypto_wallet + total_stocks_bonds\n",
    "\n",
    "# Print current cryptocurrency wallet balance\n",
    "print(f\"The current cryptocurreny wallet balance is ${round(total_crypto_wallet)}\")\n",
    "print(f\"The current balance of the stock and bond portfolio is ${round(total_stocks_bonds)}\")\n",
    "print(f\"The current balance of the crypto, stock and bond portfolio is ${round(total_portfolio)}\")\n"
   ]
  },
  {
   "cell_type": "markdown",
   "metadata": {},
   "source": [
    "### Evaluate the Emergency Fund\n",
    "\n",
    "In this section, you’ll use the valuations for the cryptocurrency wallet and for the stock and bond portions of the portfolio to determine if the credit union member has enough savings to build an emergency fund into their financial plan. To do this, complete the following steps:\n",
    "\n",
    "1. Create a Python list named `savings_data` that has two elements. The first element contains the total value of the cryptocurrency wallet. The second element contains the total value of the stock and bond portions of the portfolio.\n",
    "\n",
    "2. Use the `savings_data` list to create a Pandas DataFrame named `savings_df`, and then display this DataFrame. The function to create the DataFrame should take the following three parameters:\n",
    "\n",
    "    - `savings_data`: Use the list that you just created.\n",
    "\n",
    "    - `columns`: Set this parameter equal to a Python list with a single value called `amount`.\n",
    "\n",
    "    - `index`: Set this parameter equal to a Python list with the values of `crypto` and `stock/bond`.\n",
    "\n",
    "3. Use the `savings_df` DataFrame to plot a pie chart that visualizes the composition of the member’s portfolio. The y-axis of the pie chart uses `amount`. Be sure to add a title.\n",
    "\n",
    "4. Using Python, determine if the current portfolio has enough to create an emergency fund as part of the member’s financial plan. Ideally, an emergency fund should equal to three times the member’s monthly income. To do this, implement the following steps:\n",
    "\n",
    "    1. Create a variable named `emergency_fund_value`, and set it equal to three times the value of the member’s `monthly_income` of $12000. (You set this earlier in Part 1).\n",
    "\n",
    "    2. Create a series of three if statements to determine if the member’s total portfolio is large enough to fund the emergency portfolio:\n",
    "\n",
    "        1. If the total portfolio value is greater than the emergency fund value, display a message congratulating the member for having enough money in this fund.\n",
    "\n",
    "        2. Else if the total portfolio value is equal to the emergency fund value, display a message congratulating the member on reaching this important financial goal.\n",
    "\n",
    "        3. Else the total portfolio is less than the emergency fund value, so display a message showing how many dollars away the member is from reaching the goal. (Subtract the total portfolio value from the emergency fund value.)\n"
   ]
  },
  {
   "cell_type": "markdown",
   "metadata": {},
   "source": [
    "#### Step 1: Create a Python list named `savings_data` that has two elements. The first element contains the total value of the cryptocurrency wallet. The second element contains the total value of the stock and bond portions of the portfolio."
   ]
  },
  {
   "cell_type": "code",
   "execution_count": 70,
   "metadata": {},
   "outputs": [
    {
     "data": {
      "text/plain": [
       "[69132.01, 60689.5]"
      ]
     },
     "execution_count": 70,
     "metadata": {},
     "output_type": "execute_result"
    }
   ],
   "source": [
    "# Consolidate financial assets data into a Python list\n",
    "\n",
    "savings_data = [total_crypto_wallet,total_stocks_bonds]\n",
    "\n",
    "# Review the Python list savings_data\n",
    "savings_data\n",
    "    "
   ]
  },
  {
   "cell_type": "markdown",
   "metadata": {},
   "source": [
    "#### Step 2: Use the `savings_data` list to create a Pandas DataFrame named `savings_df`, and then display this DataFrame. The function to create the DataFrame should take the following three parameters:\n",
    "\n",
    "- `savings_data`: Use the list that you just created.\n",
    "\n",
    "- `columns`: Set this parameter equal to a Python list with a single value called `amount`.\n",
    "\n",
    "- `index`: Set this parameter equal to a Python list with the values of `crypto` and `stock/bond`.\n"
   ]
  },
  {
   "cell_type": "code",
   "execution_count": 71,
   "metadata": {},
   "outputs": [
    {
     "data": {
      "text/html": [
       "<div>\n",
       "<style scoped>\n",
       "    .dataframe tbody tr th:only-of-type {\n",
       "        vertical-align: middle;\n",
       "    }\n",
       "\n",
       "    .dataframe tbody tr th {\n",
       "        vertical-align: top;\n",
       "    }\n",
       "\n",
       "    .dataframe thead th {\n",
       "        text-align: right;\n",
       "    }\n",
       "</style>\n",
       "<table border=\"1\" class=\"dataframe\">\n",
       "  <thead>\n",
       "    <tr style=\"text-align: right;\">\n",
       "      <th></th>\n",
       "      <th>amount</th>\n",
       "    </tr>\n",
       "  </thead>\n",
       "  <tbody>\n",
       "    <tr>\n",
       "      <th>crypto</th>\n",
       "      <td>69132.01</td>\n",
       "    </tr>\n",
       "    <tr>\n",
       "      <th>stock/bond</th>\n",
       "      <td>60689.50</td>\n",
       "    </tr>\n",
       "  </tbody>\n",
       "</table>\n",
       "</div>"
      ],
      "text/plain": [
       "              amount\n",
       "crypto      69132.01\n",
       "stock/bond  60689.50"
      ]
     },
     "execution_count": 71,
     "metadata": {},
     "output_type": "execute_result"
    }
   ],
   "source": [
    "# Create a Pandas DataFrame called savings_df \n",
    "index_list = ['crypto','stock/bond']\n",
    "savings_df = pd.DataFrame(data = savings_data, columns = [\"amount\"], index = index_list)\n",
    "\n",
    "# Display the savings_df DataFrame\n",
    "savings_df\n"
   ]
  },
  {
   "cell_type": "markdown",
   "metadata": {},
   "source": [
    "#### Step 3: Use the `savings_df` DataFrame to plot a pie chart that visualizes the composition of the member’s portfolio. The y-axis of the pie chart uses `amount`. Be sure to add a title."
   ]
  },
  {
   "cell_type": "code",
   "execution_count": 72,
   "metadata": {},
   "outputs": [
    {
     "data": {
      "text/plain": [
       "<AxesSubplot:title={'center':'Total portfolio crypto and stock/bond) pie chart'}, ylabel='amount'>"
      ]
     },
     "execution_count": 72,
     "metadata": {},
     "output_type": "execute_result"
    },
    {
     "data": {
      "image/png": "[encoded data removed]",
      "text/plain": [
       "<Figure size 432x288 with 1 Axes>"
      ]
     },
     "metadata": {},
     "output_type": "display_data"
    }
   ],
   "source": [
    "# Plot the total value of the member's portfolio (crypto and stock/bond) in a pie chart\n",
    "savings_df.plot.pie(y=\"amount\",title=\"Total portfolio crypto and stock/bond) pie chart\")\n"
   ]
  },
  {
   "cell_type": "markdown",
   "metadata": {},
   "source": [
    "#### Step 4: Using Python, determine if the current portfolio has enough to create an emergency fund as part of the member’s financial plan. Ideally, an emergency fund should equal to three times the member’s monthly income. To do this, implement the following steps:\n",
    "\n",
    "Step 1. Create a variable named `emergency_fund_value`, and set it equal to three times the value of the member’s `monthly_income` of 12000. (You set this earlier in Part 1).\n",
    "\n",
    "Step 2. Create a series of three if statements to determine if the member’s total portfolio is large enough to fund the emergency portfolio:\n",
    "\n",
    "* If the total portfolio value is greater than the emergency fund value, display a message congratulating the member for having enough money in this fund.\n",
    "\n",
    "* Else if the total portfolio value is equal to the emergency fund value, display a message congratulating the member on reaching this important financial goal.\n",
    "\n",
    "* Else the total portfolio is less than the emergency fund value, so display a message showing how many dollars away the member is from reaching the goal. (Subtract the total portfolio value from the emergency fund value.)\n"
   ]
  },
  {
   "cell_type": "markdown",
   "metadata": {},
   "source": [
    "##### Step 4-1: Create a variable named `emergency_fund_value`, and set it equal to three times the value of the member’s `monthly_income` of 12000. (You set this earlier in Part 1)."
   ]
  },
  {
   "cell_type": "code",
   "execution_count": 79,
   "metadata": {},
   "outputs": [
    {
     "data": {
      "text/plain": [
       "36000"
      ]
     },
     "execution_count": 79,
     "metadata": {},
     "output_type": "execute_result"
    }
   ],
   "source": [
    "# Create a variable named emergency_fund_value\n",
    "emergency_fund_value = 3 * monthly_income\n",
    "\n",
    "emergency_fund_value"
   ]
  },
  {
   "cell_type": "markdown",
   "metadata": {},
   "source": [
    "##### Step 4-2: Create a series of three if statements to determine if the member’s total portfolio is large enough to fund the emergency portfolio:\n",
    "\n",
    "* If the total portfolio value is greater than the emergency fund value, display a message congratulating the member for having enough money in this fund.\n",
    "\n",
    "* Else if the total portfolio value is equal to the emergency fund value, display a message congratulating the member on reaching this important financial goal.\n",
    "\n",
    "* Else the total portfolio is less than the emergency fund value, so display a message showing how many dollars away the member is from reaching the goal. (Subtract the total portfolio value from the emergency fund value.)"
   ]
  },
  {
   "cell_type": "code",
   "execution_count": 80,
   "metadata": {},
   "outputs": [
    {
     "name": "stdout",
     "output_type": "stream",
     "text": [
      "Congratulations for having enough money in emergency fund.\n"
     ]
    }
   ],
   "source": [
    "# Evaluate the possibility of creating an emergency fund with 3 conditions:\n",
    "if total_portfolio > emergency_fund_value:\n",
    "    print(\"Congratulations for having enough money in emergency fund.\")\n",
    "elif total_portfolio == emergency_fund_value:\n",
    "    print(\"Congratulations, you have reached an important financial goal.\")\n",
    "else:\n",
    "    print(f\"You have not reached your goal yet. Keep trying. You are only ${round(emergency_fund_value - total_portfolio)} away from reaching your important financial goal.\")\n"
   ]
  },
  {
   "cell_type": "markdown",
   "metadata": {},
   "source": [
    "## Part 2: Create a Financial Planner for Retirement"
   ]
  },
  {
   "cell_type": "markdown",
   "metadata": {},
   "source": [
    "### Create the Monte Carlo Simulation\n",
    "\n",
    "In this section, you’ll use the MCForecastTools library to create a Monte Carlo simulation for the member’s savings portfolio. To do this, complete the following steps:\n",
    "\n",
    "1. Make an API call via the Alpaca SDK to get 3 years of historical closing prices for a traditional 60/40 portfolio split: 60% stocks (SPY) and 40% bonds (AGG).\n",
    "\n",
    "2. Run a Monte Carlo simulation of 500 samples and 30 years for the 60/40 portfolio, and then plot the results.The following image shows the overlay line plot resulting from a simulation with these characteristics. However, because a random number generator is used to run each live Monte Carlo simulation, your image will differ slightly from this exact image:\n",
    "\n",
    "![A screenshot depicts the resulting plot.](Images/5-4-monte-carlo-line-plot.png)\n",
    "\n",
    "3. Plot the probability distribution of the Monte Carlo simulation. Plot the probability distribution of the Monte Carlo simulation. The following image shows the histogram plot resulting from a simulation with these characteristics. However, because a random number generator is used to run each live Monte Carlo simulation, your image will differ slightly from this exact image:\n",
    "\n",
    "![A screenshot depicts the histogram plot.](Images/5-4-monte-carlo-histogram.png)\n",
    "\n",
    "4. Generate the summary statistics for the Monte Carlo simulation.\n",
    "\n"
   ]
  },
  {
   "cell_type": "markdown",
   "metadata": {},
   "source": [
    "#### Step 1: Make an API call via the Alpaca SDK to get 3 years of historical closing prices for a traditional 60/40 portfolio split: 60% stocks (SPY) and 40% bonds (AGG)."
   ]
  },
  {
   "cell_type": "code",
   "execution_count": 81,
   "metadata": {},
   "outputs": [],
   "source": [
    "# Set start and end dates of 3 years back from your current date\n",
    "# Alternatively, you can use an end date of 2020-08-07 and work 3 years back from that date \n",
    "start_date = pd.Timestamp('2019-01-19',tz='America/New_York').isoformat()\n",
    "end_date = pd.Timestamp('2022-01-19',tz='America/New_York').isoformat()\n",
    "\n",
    "# Set number of rows to 1000 to retrieve the maximum amount of rows\n",
    "limit_rows = 1000"
   ]
  },
  {
   "cell_type": "code",
   "execution_count": 83,
   "metadata": {},
   "outputs": [
    {
     "data": {
      "text/html": [
       "<div>\n",
       "<style scoped>\n",
       "    .dataframe tbody tr th:only-of-type {\n",
       "        vertical-align: middle;\n",
       "    }\n",
       "\n",
       "    .dataframe tbody tr th {\n",
       "        vertical-align: top;\n",
       "    }\n",
       "\n",
       "    .dataframe thead tr th {\n",
       "        text-align: left;\n",
       "    }\n",
       "\n",
       "    .dataframe thead tr:last-of-type th {\n",
       "        text-align: right;\n",
       "    }\n",
       "</style>\n",
       "<table border=\"1\" class=\"dataframe\">\n",
       "  <thead>\n",
       "    <tr>\n",
       "      <th></th>\n",
       "      <th colspan=\"5\" halign=\"left\">AGG</th>\n",
       "      <th colspan=\"5\" halign=\"left\">SPY</th>\n",
       "    </tr>\n",
       "    <tr>\n",
       "      <th></th>\n",
       "      <th>open</th>\n",
       "      <th>high</th>\n",
       "      <th>low</th>\n",
       "      <th>close</th>\n",
       "      <th>volume</th>\n",
       "      <th>open</th>\n",
       "      <th>high</th>\n",
       "      <th>low</th>\n",
       "      <th>close</th>\n",
       "      <th>volume</th>\n",
       "    </tr>\n",
       "    <tr>\n",
       "      <th>time</th>\n",
       "      <th></th>\n",
       "      <th></th>\n",
       "      <th></th>\n",
       "      <th></th>\n",
       "      <th></th>\n",
       "      <th></th>\n",
       "      <th></th>\n",
       "      <th></th>\n",
       "      <th></th>\n",
       "      <th></th>\n",
       "    </tr>\n",
       "  </thead>\n",
       "  <tbody>\n",
       "    <tr>\n",
       "      <th>2019-01-22 00:00:00-05:00</th>\n",
       "      <td>106.44</td>\n",
       "      <td>108.510</td>\n",
       "      <td>106.44</td>\n",
       "      <td>106.455</td>\n",
       "      <td>6646771</td>\n",
       "      <td>264.82</td>\n",
       "      <td>265.06</td>\n",
       "      <td>261.0600</td>\n",
       "      <td>261.970</td>\n",
       "      <td>88775864</td>\n",
       "    </tr>\n",
       "    <tr>\n",
       "      <th>2019-01-23 00:00:00-05:00</th>\n",
       "      <td>106.38</td>\n",
       "      <td>106.590</td>\n",
       "      <td>106.37</td>\n",
       "      <td>106.530</td>\n",
       "      <td>2934313</td>\n",
       "      <td>264.01</td>\n",
       "      <td>264.79</td>\n",
       "      <td>260.6600</td>\n",
       "      <td>263.100</td>\n",
       "      <td>74195206</td>\n",
       "    </tr>\n",
       "    <tr>\n",
       "      <th>2019-01-24 00:00:00-05:00</th>\n",
       "      <td>106.72</td>\n",
       "      <td>106.840</td>\n",
       "      <td>106.67</td>\n",
       "      <td>106.730</td>\n",
       "      <td>6586980</td>\n",
       "      <td>263.21</td>\n",
       "      <td>264.20</td>\n",
       "      <td>262.0800</td>\n",
       "      <td>263.690</td>\n",
       "      <td>48407752</td>\n",
       "    </tr>\n",
       "    <tr>\n",
       "      <th>2019-01-25 00:00:00-05:00</th>\n",
       "      <td>106.64</td>\n",
       "      <td>106.700</td>\n",
       "      <td>106.56</td>\n",
       "      <td>106.675</td>\n",
       "      <td>3157633</td>\n",
       "      <td>265.61</td>\n",
       "      <td>266.70</td>\n",
       "      <td>263.6595</td>\n",
       "      <td>265.700</td>\n",
       "      <td>78094541</td>\n",
       "    </tr>\n",
       "    <tr>\n",
       "      <th>2019-01-28 00:00:00-05:00</th>\n",
       "      <td>106.62</td>\n",
       "      <td>106.745</td>\n",
       "      <td>106.58</td>\n",
       "      <td>106.655</td>\n",
       "      <td>6372589</td>\n",
       "      <td>263.39</td>\n",
       "      <td>263.82</td>\n",
       "      <td>261.7900</td>\n",
       "      <td>263.635</td>\n",
       "      <td>75207990</td>\n",
       "    </tr>\n",
       "  </tbody>\n",
       "</table>\n",
       "</div>"
      ],
      "text/plain": [
       "                              AGG                                        SPY  \\\n",
       "                             open     high     low    close   volume    open   \n",
       "time                                                                           \n",
       "2019-01-22 00:00:00-05:00  106.44  108.510  106.44  106.455  6646771  264.82   \n",
       "2019-01-23 00:00:00-05:00  106.38  106.590  106.37  106.530  2934313  264.01   \n",
       "2019-01-24 00:00:00-05:00  106.72  106.840  106.67  106.730  6586980  263.21   \n",
       "2019-01-25 00:00:00-05:00  106.64  106.700  106.56  106.675  3157633  265.61   \n",
       "2019-01-28 00:00:00-05:00  106.62  106.745  106.58  106.655  6372589  263.39   \n",
       "\n",
       "                                                                \n",
       "                             high       low    close    volume  \n",
       "time                                                            \n",
       "2019-01-22 00:00:00-05:00  265.06  261.0600  261.970  88775864  \n",
       "2019-01-23 00:00:00-05:00  264.79  260.6600  263.100  74195206  \n",
       "2019-01-24 00:00:00-05:00  264.20  262.0800  263.690  48407752  \n",
       "2019-01-25 00:00:00-05:00  266.70  263.6595  265.700  78094541  \n",
       "2019-01-28 00:00:00-05:00  263.82  261.7900  263.635  75207990  "
      ]
     },
     "metadata": {},
     "output_type": "display_data"
    },
    {
     "data": {
      "text/html": [
       "<div>\n",
       "<style scoped>\n",
       "    .dataframe tbody tr th:only-of-type {\n",
       "        vertical-align: middle;\n",
       "    }\n",
       "\n",
       "    .dataframe tbody tr th {\n",
       "        vertical-align: top;\n",
       "    }\n",
       "\n",
       "    .dataframe thead tr th {\n",
       "        text-align: left;\n",
       "    }\n",
       "\n",
       "    .dataframe thead tr:last-of-type th {\n",
       "        text-align: right;\n",
       "    }\n",
       "</style>\n",
       "<table border=\"1\" class=\"dataframe\">\n",
       "  <thead>\n",
       "    <tr>\n",
       "      <th></th>\n",
       "      <th colspan=\"5\" halign=\"left\">AGG</th>\n",
       "      <th colspan=\"5\" halign=\"left\">SPY</th>\n",
       "    </tr>\n",
       "    <tr>\n",
       "      <th></th>\n",
       "      <th>open</th>\n",
       "      <th>high</th>\n",
       "      <th>low</th>\n",
       "      <th>close</th>\n",
       "      <th>volume</th>\n",
       "      <th>open</th>\n",
       "      <th>high</th>\n",
       "      <th>low</th>\n",
       "      <th>close</th>\n",
       "      <th>volume</th>\n",
       "    </tr>\n",
       "    <tr>\n",
       "      <th>time</th>\n",
       "      <th></th>\n",
       "      <th></th>\n",
       "      <th></th>\n",
       "      <th></th>\n",
       "      <th></th>\n",
       "      <th></th>\n",
       "      <th></th>\n",
       "      <th></th>\n",
       "      <th></th>\n",
       "      <th></th>\n",
       "    </tr>\n",
       "  </thead>\n",
       "  <tbody>\n",
       "    <tr>\n",
       "      <th>2022-01-12 00:00:00-05:00</th>\n",
       "      <td>112.72</td>\n",
       "      <td>112.785</td>\n",
       "      <td>112.58</td>\n",
       "      <td>112.60</td>\n",
       "      <td>6159865</td>\n",
       "      <td>471.59</td>\n",
       "      <td>473.2000</td>\n",
       "      <td>468.94</td>\n",
       "      <td>471.06</td>\n",
       "      <td>58775301</td>\n",
       "    </tr>\n",
       "    <tr>\n",
       "      <th>2022-01-13 00:00:00-05:00</th>\n",
       "      <td>112.60</td>\n",
       "      <td>112.800</td>\n",
       "      <td>112.51</td>\n",
       "      <td>112.80</td>\n",
       "      <td>7925476</td>\n",
       "      <td>472.21</td>\n",
       "      <td>472.8800</td>\n",
       "      <td>463.44</td>\n",
       "      <td>464.54</td>\n",
       "      <td>79071832</td>\n",
       "    </tr>\n",
       "    <tr>\n",
       "      <th>2022-01-14 00:00:00-05:00</th>\n",
       "      <td>112.53</td>\n",
       "      <td>112.545</td>\n",
       "      <td>112.15</td>\n",
       "      <td>112.17</td>\n",
       "      <td>8341976</td>\n",
       "      <td>461.19</td>\n",
       "      <td>465.0900</td>\n",
       "      <td>459.90</td>\n",
       "      <td>464.68</td>\n",
       "      <td>84172573</td>\n",
       "    </tr>\n",
       "    <tr>\n",
       "      <th>2022-01-18 00:00:00-05:00</th>\n",
       "      <td>111.81</td>\n",
       "      <td>111.860</td>\n",
       "      <td>111.47</td>\n",
       "      <td>111.49</td>\n",
       "      <td>7390142</td>\n",
       "      <td>459.73</td>\n",
       "      <td>459.9600</td>\n",
       "      <td>455.31</td>\n",
       "      <td>456.53</td>\n",
       "      <td>95565773</td>\n",
       "    </tr>\n",
       "    <tr>\n",
       "      <th>2022-01-19 00:00:00-05:00</th>\n",
       "      <td>111.70</td>\n",
       "      <td>111.890</td>\n",
       "      <td>111.65</td>\n",
       "      <td>111.71</td>\n",
       "      <td>7641972</td>\n",
       "      <td>458.17</td>\n",
       "      <td>459.6124</td>\n",
       "      <td>451.46</td>\n",
       "      <td>451.79</td>\n",
       "      <td>95311817</td>\n",
       "    </tr>\n",
       "  </tbody>\n",
       "</table>\n",
       "</div>"
      ],
      "text/plain": [
       "                              AGG                                       SPY  \\\n",
       "                             open     high     low   close   volume    open   \n",
       "time                                                                          \n",
       "2022-01-12 00:00:00-05:00  112.72  112.785  112.58  112.60  6159865  471.59   \n",
       "2022-01-13 00:00:00-05:00  112.60  112.800  112.51  112.80  7925476  472.21   \n",
       "2022-01-14 00:00:00-05:00  112.53  112.545  112.15  112.17  8341976  461.19   \n",
       "2022-01-18 00:00:00-05:00  111.81  111.860  111.47  111.49  7390142  459.73   \n",
       "2022-01-19 00:00:00-05:00  111.70  111.890  111.65  111.71  7641972  458.17   \n",
       "\n",
       "                                                               \n",
       "                               high     low   close    volume  \n",
       "time                                                           \n",
       "2022-01-12 00:00:00-05:00  473.2000  468.94  471.06  58775301  \n",
       "2022-01-13 00:00:00-05:00  472.8800  463.44  464.54  79071832  \n",
       "2022-01-14 00:00:00-05:00  465.0900  459.90  464.68  84172573  \n",
       "2022-01-18 00:00:00-05:00  459.9600  455.31  456.53  95565773  \n",
       "2022-01-19 00:00:00-05:00  459.6124  451.46  451.79  95311817  "
      ]
     },
     "metadata": {},
     "output_type": "display_data"
    }
   ],
   "source": [
    "# Use the Alpaca get_barset function to make the API call to get the 3 years worth of pricing data\n",
    "# The tickers and timeframe parameters should have been set in Part 1 of this activity \n",
    "# The start and end dates should be updated with the information set above\n",
    "# Remember to add the df property to the end of the call so the response is returned as a DataFrame\n",
    "prices_df = alpaca.get_barset(tickers, timeframe, start=start_date, end=end_date, limit=limit_rows).df\n",
    "\n",
    "\n",
    "# Display both the first and last five rows of the DataFrame\n",
    "display(prices_df.head())\n",
    "display(prices_df.tail())"
   ]
  },
  {
   "cell_type": "markdown",
   "metadata": {},
   "source": [
    "#### Step 2: Run a Monte Carlo simulation of 500 samples and 30 years for the 60/40 portfolio, and then plot the results."
   ]
  },
  {
   "cell_type": "code",
   "execution_count": 87,
   "metadata": {},
   "outputs": [
    {
     "data": {
      "text/html": [
       "<div>\n",
       "<style scoped>\n",
       "    .dataframe tbody tr th:only-of-type {\n",
       "        vertical-align: middle;\n",
       "    }\n",
       "\n",
       "    .dataframe tbody tr th {\n",
       "        vertical-align: top;\n",
       "    }\n",
       "\n",
       "    .dataframe thead tr th {\n",
       "        text-align: left;\n",
       "    }\n",
       "\n",
       "    .dataframe thead tr:last-of-type th {\n",
       "        text-align: right;\n",
       "    }\n",
       "</style>\n",
       "<table border=\"1\" class=\"dataframe\">\n",
       "  <thead>\n",
       "    <tr>\n",
       "      <th></th>\n",
       "      <th colspan=\"6\" halign=\"left\">AGG</th>\n",
       "      <th colspan=\"6\" halign=\"left\">SPY</th>\n",
       "    </tr>\n",
       "    <tr>\n",
       "      <th></th>\n",
       "      <th>open</th>\n",
       "      <th>high</th>\n",
       "      <th>low</th>\n",
       "      <th>close</th>\n",
       "      <th>volume</th>\n",
       "      <th>daily_return</th>\n",
       "      <th>open</th>\n",
       "      <th>high</th>\n",
       "      <th>low</th>\n",
       "      <th>close</th>\n",
       "      <th>volume</th>\n",
       "      <th>daily_return</th>\n",
       "    </tr>\n",
       "    <tr>\n",
       "      <th>time</th>\n",
       "      <th></th>\n",
       "      <th></th>\n",
       "      <th></th>\n",
       "      <th></th>\n",
       "      <th></th>\n",
       "      <th></th>\n",
       "      <th></th>\n",
       "      <th></th>\n",
       "      <th></th>\n",
       "      <th></th>\n",
       "      <th></th>\n",
       "      <th></th>\n",
       "    </tr>\n",
       "  </thead>\n",
       "  <tbody>\n",
       "    <tr>\n",
       "      <th>2019-01-22 00:00:00-05:00</th>\n",
       "      <td>106.44</td>\n",
       "      <td>108.510</td>\n",
       "      <td>106.44</td>\n",
       "      <td>106.455</td>\n",
       "      <td>6646771</td>\n",
       "      <td>NaN</td>\n",
       "      <td>264.82</td>\n",
       "      <td>265.06</td>\n",
       "      <td>261.0600</td>\n",
       "      <td>261.970</td>\n",
       "      <td>88775864</td>\n",
       "      <td>NaN</td>\n",
       "    </tr>\n",
       "    <tr>\n",
       "      <th>2019-01-23 00:00:00-05:00</th>\n",
       "      <td>106.38</td>\n",
       "      <td>106.590</td>\n",
       "      <td>106.37</td>\n",
       "      <td>106.530</td>\n",
       "      <td>2934313</td>\n",
       "      <td>0.000705</td>\n",
       "      <td>264.01</td>\n",
       "      <td>264.79</td>\n",
       "      <td>260.6600</td>\n",
       "      <td>263.100</td>\n",
       "      <td>74195206</td>\n",
       "      <td>0.004313</td>\n",
       "    </tr>\n",
       "    <tr>\n",
       "      <th>2019-01-24 00:00:00-05:00</th>\n",
       "      <td>106.72</td>\n",
       "      <td>106.840</td>\n",
       "      <td>106.67</td>\n",
       "      <td>106.730</td>\n",
       "      <td>6586980</td>\n",
       "      <td>0.001877</td>\n",
       "      <td>263.21</td>\n",
       "      <td>264.20</td>\n",
       "      <td>262.0800</td>\n",
       "      <td>263.690</td>\n",
       "      <td>48407752</td>\n",
       "      <td>0.002242</td>\n",
       "    </tr>\n",
       "    <tr>\n",
       "      <th>2019-01-25 00:00:00-05:00</th>\n",
       "      <td>106.64</td>\n",
       "      <td>106.700</td>\n",
       "      <td>106.56</td>\n",
       "      <td>106.675</td>\n",
       "      <td>3157633</td>\n",
       "      <td>-0.000515</td>\n",
       "      <td>265.61</td>\n",
       "      <td>266.70</td>\n",
       "      <td>263.6595</td>\n",
       "      <td>265.700</td>\n",
       "      <td>78094541</td>\n",
       "      <td>0.007623</td>\n",
       "    </tr>\n",
       "    <tr>\n",
       "      <th>2019-01-28 00:00:00-05:00</th>\n",
       "      <td>106.62</td>\n",
       "      <td>106.745</td>\n",
       "      <td>106.58</td>\n",
       "      <td>106.655</td>\n",
       "      <td>6372589</td>\n",
       "      <td>-0.000187</td>\n",
       "      <td>263.39</td>\n",
       "      <td>263.82</td>\n",
       "      <td>261.7900</td>\n",
       "      <td>263.635</td>\n",
       "      <td>75207990</td>\n",
       "      <td>-0.007772</td>\n",
       "    </tr>\n",
       "  </tbody>\n",
       "</table>\n",
       "</div>"
      ],
      "text/plain": [
       "                              AGG                                     \\\n",
       "                             open     high     low    close   volume   \n",
       "time                                                                   \n",
       "2019-01-22 00:00:00-05:00  106.44  108.510  106.44  106.455  6646771   \n",
       "2019-01-23 00:00:00-05:00  106.38  106.590  106.37  106.530  2934313   \n",
       "2019-01-24 00:00:00-05:00  106.72  106.840  106.67  106.730  6586980   \n",
       "2019-01-25 00:00:00-05:00  106.64  106.700  106.56  106.675  3157633   \n",
       "2019-01-28 00:00:00-05:00  106.62  106.745  106.58  106.655  6372589   \n",
       "\n",
       "                                           SPY                             \\\n",
       "                          daily_return    open    high       low    close   \n",
       "time                                                                        \n",
       "2019-01-22 00:00:00-05:00          NaN  264.82  265.06  261.0600  261.970   \n",
       "2019-01-23 00:00:00-05:00     0.000705  264.01  264.79  260.6600  263.100   \n",
       "2019-01-24 00:00:00-05:00     0.001877  263.21  264.20  262.0800  263.690   \n",
       "2019-01-25 00:00:00-05:00    -0.000515  265.61  266.70  263.6595  265.700   \n",
       "2019-01-28 00:00:00-05:00    -0.000187  263.39  263.82  261.7900  263.635   \n",
       "\n",
       "                                                  \n",
       "                             volume daily_return  \n",
       "time                                              \n",
       "2019-01-22 00:00:00-05:00  88775864          NaN  \n",
       "2019-01-23 00:00:00-05:00  74195206     0.004313  \n",
       "2019-01-24 00:00:00-05:00  48407752     0.002242  \n",
       "2019-01-25 00:00:00-05:00  78094541     0.007623  \n",
       "2019-01-28 00:00:00-05:00  75207990    -0.007772  "
      ]
     },
     "execution_count": 87,
     "metadata": {},
     "output_type": "execute_result"
    }
   ],
   "source": [
    "# Configure the Monte Carlo simulation to forecast 30 years cumulative returns\n",
    "# The weights should be split 40% to AGG and 60% to SPY.\n",
    "# Run 500 samples.\n",
    "MC_30year = MCSimulation(\n",
    "    portfolio_data = prices_df,\n",
    "    weights = [0.4,0.6],\n",
    "    num_simulation = 500,\n",
    "    num_trading_days = 252*30\n",
    ")\n",
    "\n",
    "# Review the simulation input data\n",
    "MC_30year.portfolio_data.head()\n"
   ]
  },
  {
   "cell_type": "code",
   "execution_count": 88,
   "metadata": {},
   "outputs": [
    {
     "name": "stdout",
     "output_type": "stream",
     "text": [
      "Running Monte Carlo simulation number 0.\n",
      "Running Monte Carlo simulation number 10.\n",
      "Running Monte Carlo simulation number 20.\n",
      "Running Monte Carlo simulation number 30.\n",
      "Running Monte Carlo simulation number 40.\n",
      "Running Monte Carlo simulation number 50.\n",
      "Running Monte Carlo simulation number 60.\n",
      "Running Monte Carlo simulation number 70.\n",
      "Running Monte Carlo simulation number 80.\n",
      "Running Monte Carlo simulation number 90.\n",
      "Running Monte Carlo simulation number 100.\n"
     ]
    },
    {
     "name": "stderr",
     "output_type": "stream",
     "text": [
      "C:\\FinTech\\Challenges\\Columbia_Fintech_Module5\\MCForecastTools.py:117: PerformanceWarning: DataFrame is highly fragmented.  This is usually the result of calling `frame.insert` many times, which has poor performance.  Consider joining all columns at once using pd.concat(axis=1) instead.  To get a de-fragmented frame, use `newframe = frame.copy()`\n",
      "  portfolio_cumulative_returns[n] = (1 + sim_df.fillna(0)).cumprod()\n"
     ]
    },
    {
     "name": "stdout",
     "output_type": "stream",
     "text": [
      "Running Monte Carlo simulation number 110.\n",
      "Running Monte Carlo simulation number 120.\n",
      "Running Monte Carlo simulation number 130.\n",
      "Running Monte Carlo simulation number 140.\n",
      "Running Monte Carlo simulation number 150.\n",
      "Running Monte Carlo simulation number 160.\n",
      "Running Monte Carlo simulation number 170.\n",
      "Running Monte Carlo simulation number 180.\n",
      "Running Monte Carlo simulation number 190.\n",
      "Running Monte Carlo simulation number 200.\n",
      "Running Monte Carlo simulation number 210.\n",
      "Running Monte Carlo simulation number 220.\n",
      "Running Monte Carlo simulation number 230.\n",
      "Running Monte Carlo simulation number 240.\n",
      "Running Monte Carlo simulation number 250.\n",
      "Running Monte Carlo simulation number 260.\n",
      "Running Monte Carlo simulation number 270.\n",
      "Running Monte Carlo simulation number 280.\n",
      "Running Monte Carlo simulation number 290.\n",
      "Running Monte Carlo simulation number 300.\n",
      "Running Monte Carlo simulation number 310.\n",
      "Running Monte Carlo simulation number 320.\n",
      "Running Monte Carlo simulation number 330.\n",
      "Running Monte Carlo simulation number 340.\n",
      "Running Monte Carlo simulation number 350.\n",
      "Running Monte Carlo simulation number 360.\n",
      "Running Monte Carlo simulation number 370.\n",
      "Running Monte Carlo simulation number 380.\n",
      "Running Monte Carlo simulation number 390.\n",
      "Running Monte Carlo simulation number 400.\n",
      "Running Monte Carlo simulation number 410.\n",
      "Running Monte Carlo simulation number 420.\n",
      "Running Monte Carlo simulation number 430.\n",
      "Running Monte Carlo simulation number 440.\n",
      "Running Monte Carlo simulation number 450.\n",
      "Running Monte Carlo simulation number 460.\n",
      "Running Monte Carlo simulation number 470.\n",
      "Running Monte Carlo simulation number 480.\n",
      "Running Monte Carlo simulation number 490.\n"
     ]
    },
    {
     "data": {
      "text/html": [
       "<div>\n",
       "<style scoped>\n",
       "    .dataframe tbody tr th:only-of-type {\n",
       "        vertical-align: middle;\n",
       "    }\n",
       "\n",
       "    .dataframe tbody tr th {\n",
       "        vertical-align: top;\n",
       "    }\n",
       "\n",
       "    .dataframe thead th {\n",
       "        text-align: right;\n",
       "    }\n",
       "</style>\n",
       "<table border=\"1\" class=\"dataframe\">\n",
       "  <thead>\n",
       "    <tr style=\"text-align: right;\">\n",
       "      <th></th>\n",
       "      <th>0</th>\n",
       "      <th>1</th>\n",
       "      <th>2</th>\n",
       "      <th>3</th>\n",
       "      <th>4</th>\n",
       "      <th>5</th>\n",
       "      <th>6</th>\n",
       "      <th>7</th>\n",
       "      <th>8</th>\n",
       "      <th>9</th>\n",
       "      <th>...</th>\n",
       "      <th>490</th>\n",
       "      <th>491</th>\n",
       "      <th>492</th>\n",
       "      <th>493</th>\n",
       "      <th>494</th>\n",
       "      <th>495</th>\n",
       "      <th>496</th>\n",
       "      <th>497</th>\n",
       "      <th>498</th>\n",
       "      <th>499</th>\n",
       "    </tr>\n",
       "  </thead>\n",
       "  <tbody>\n",
       "    <tr>\n",
       "      <th>0</th>\n",
       "      <td>1.000000</td>\n",
       "      <td>1.000000</td>\n",
       "      <td>1.000000</td>\n",
       "      <td>1.000000</td>\n",
       "      <td>1.000000</td>\n",
       "      <td>1.000000</td>\n",
       "      <td>1.000000</td>\n",
       "      <td>1.000000</td>\n",
       "      <td>1.000000</td>\n",
       "      <td>1.000000</td>\n",
       "      <td>...</td>\n",
       "      <td>1.000000</td>\n",
       "      <td>1.000000</td>\n",
       "      <td>1.000000</td>\n",
       "      <td>1.000000</td>\n",
       "      <td>1.000000</td>\n",
       "      <td>1.000000</td>\n",
       "      <td>1.000000</td>\n",
       "      <td>1.000000</td>\n",
       "      <td>1.000000</td>\n",
       "      <td>1.000000</td>\n",
       "    </tr>\n",
       "    <tr>\n",
       "      <th>1</th>\n",
       "      <td>0.989334</td>\n",
       "      <td>0.999331</td>\n",
       "      <td>1.006001</td>\n",
       "      <td>0.993450</td>\n",
       "      <td>1.000147</td>\n",
       "      <td>0.994620</td>\n",
       "      <td>1.009544</td>\n",
       "      <td>1.005591</td>\n",
       "      <td>0.992558</td>\n",
       "      <td>0.985351</td>\n",
       "      <td>...</td>\n",
       "      <td>0.983773</td>\n",
       "      <td>0.993830</td>\n",
       "      <td>0.994782</td>\n",
       "      <td>1.002960</td>\n",
       "      <td>0.997582</td>\n",
       "      <td>0.985160</td>\n",
       "      <td>0.997422</td>\n",
       "      <td>1.003759</td>\n",
       "      <td>1.003435</td>\n",
       "      <td>1.002071</td>\n",
       "    </tr>\n",
       "    <tr>\n",
       "      <th>2</th>\n",
       "      <td>1.001940</td>\n",
       "      <td>0.995662</td>\n",
       "      <td>0.982443</td>\n",
       "      <td>0.984356</td>\n",
       "      <td>0.990786</td>\n",
       "      <td>0.983374</td>\n",
       "      <td>1.005366</td>\n",
       "      <td>1.001823</td>\n",
       "      <td>0.993692</td>\n",
       "      <td>0.983692</td>\n",
       "      <td>...</td>\n",
       "      <td>0.979316</td>\n",
       "      <td>1.009225</td>\n",
       "      <td>1.011759</td>\n",
       "      <td>1.013489</td>\n",
       "      <td>1.000837</td>\n",
       "      <td>0.982464</td>\n",
       "      <td>1.000936</td>\n",
       "      <td>1.010186</td>\n",
       "      <td>0.984301</td>\n",
       "      <td>0.995754</td>\n",
       "    </tr>\n",
       "    <tr>\n",
       "      <th>3</th>\n",
       "      <td>0.999850</td>\n",
       "      <td>0.994210</td>\n",
       "      <td>0.984335</td>\n",
       "      <td>0.981182</td>\n",
       "      <td>1.002630</td>\n",
       "      <td>0.989503</td>\n",
       "      <td>1.022141</td>\n",
       "      <td>0.997598</td>\n",
       "      <td>0.981517</td>\n",
       "      <td>0.986520</td>\n",
       "      <td>...</td>\n",
       "      <td>0.965321</td>\n",
       "      <td>1.008051</td>\n",
       "      <td>1.014549</td>\n",
       "      <td>1.015408</td>\n",
       "      <td>0.998480</td>\n",
       "      <td>0.972431</td>\n",
       "      <td>1.000260</td>\n",
       "      <td>0.994685</td>\n",
       "      <td>0.970645</td>\n",
       "      <td>0.988779</td>\n",
       "    </tr>\n",
       "    <tr>\n",
       "      <th>4</th>\n",
       "      <td>1.004370</td>\n",
       "      <td>1.000339</td>\n",
       "      <td>0.988091</td>\n",
       "      <td>0.992400</td>\n",
       "      <td>0.999279</td>\n",
       "      <td>0.989310</td>\n",
       "      <td>1.009973</td>\n",
       "      <td>1.000990</td>\n",
       "      <td>0.974270</td>\n",
       "      <td>0.969099</td>\n",
       "      <td>...</td>\n",
       "      <td>0.969676</td>\n",
       "      <td>1.011464</td>\n",
       "      <td>1.014201</td>\n",
       "      <td>1.023112</td>\n",
       "      <td>1.003806</td>\n",
       "      <td>0.980842</td>\n",
       "      <td>0.999832</td>\n",
       "      <td>0.983737</td>\n",
       "      <td>0.965106</td>\n",
       "      <td>1.002743</td>\n",
       "    </tr>\n",
       "    <tr>\n",
       "      <th>...</th>\n",
       "      <td>...</td>\n",
       "      <td>...</td>\n",
       "      <td>...</td>\n",
       "      <td>...</td>\n",
       "      <td>...</td>\n",
       "      <td>...</td>\n",
       "      <td>...</td>\n",
       "      <td>...</td>\n",
       "      <td>...</td>\n",
       "      <td>...</td>\n",
       "      <td>...</td>\n",
       "      <td>...</td>\n",
       "      <td>...</td>\n",
       "      <td>...</td>\n",
       "      <td>...</td>\n",
       "      <td>...</td>\n",
       "      <td>...</td>\n",
       "      <td>...</td>\n",
       "      <td>...</td>\n",
       "      <td>...</td>\n",
       "      <td>...</td>\n",
       "    </tr>\n",
       "    <tr>\n",
       "      <th>7556</th>\n",
       "      <td>63.265174</td>\n",
       "      <td>19.722037</td>\n",
       "      <td>55.074120</td>\n",
       "      <td>76.708022</td>\n",
       "      <td>164.528061</td>\n",
       "      <td>16.642117</td>\n",
       "      <td>55.426371</td>\n",
       "      <td>40.775846</td>\n",
       "      <td>63.735479</td>\n",
       "      <td>97.250347</td>\n",
       "      <td>...</td>\n",
       "      <td>67.355144</td>\n",
       "      <td>35.902403</td>\n",
       "      <td>11.080356</td>\n",
       "      <td>82.532426</td>\n",
       "      <td>33.693324</td>\n",
       "      <td>32.164418</td>\n",
       "      <td>69.472426</td>\n",
       "      <td>61.874943</td>\n",
       "      <td>98.247662</td>\n",
       "      <td>33.018461</td>\n",
       "    </tr>\n",
       "    <tr>\n",
       "      <th>7557</th>\n",
       "      <td>62.994497</td>\n",
       "      <td>19.660743</td>\n",
       "      <td>55.417423</td>\n",
       "      <td>76.776453</td>\n",
       "      <td>165.743534</td>\n",
       "      <td>16.610219</td>\n",
       "      <td>55.224486</td>\n",
       "      <td>41.525189</td>\n",
       "      <td>63.414182</td>\n",
       "      <td>96.571719</td>\n",
       "      <td>...</td>\n",
       "      <td>68.311881</td>\n",
       "      <td>35.628878</td>\n",
       "      <td>11.157637</td>\n",
       "      <td>83.017047</td>\n",
       "      <td>33.566378</td>\n",
       "      <td>32.296327</td>\n",
       "      <td>69.740022</td>\n",
       "      <td>61.824081</td>\n",
       "      <td>97.964185</td>\n",
       "      <td>32.933812</td>\n",
       "    </tr>\n",
       "    <tr>\n",
       "      <th>7558</th>\n",
       "      <td>63.547818</td>\n",
       "      <td>19.508679</td>\n",
       "      <td>55.544682</td>\n",
       "      <td>77.309548</td>\n",
       "      <td>164.600949</td>\n",
       "      <td>16.609523</td>\n",
       "      <td>54.744920</td>\n",
       "      <td>41.985137</td>\n",
       "      <td>64.246768</td>\n",
       "      <td>95.899274</td>\n",
       "      <td>...</td>\n",
       "      <td>68.849354</td>\n",
       "      <td>35.560833</td>\n",
       "      <td>11.288588</td>\n",
       "      <td>83.756208</td>\n",
       "      <td>33.682405</td>\n",
       "      <td>32.317282</td>\n",
       "      <td>69.939218</td>\n",
       "      <td>61.968096</td>\n",
       "      <td>98.084953</td>\n",
       "      <td>33.543624</td>\n",
       "    </tr>\n",
       "    <tr>\n",
       "      <th>7559</th>\n",
       "      <td>64.009349</td>\n",
       "      <td>19.506928</td>\n",
       "      <td>55.594027</td>\n",
       "      <td>77.061639</td>\n",
       "      <td>163.803583</td>\n",
       "      <td>16.423137</td>\n",
       "      <td>55.443095</td>\n",
       "      <td>41.695531</td>\n",
       "      <td>63.816925</td>\n",
       "      <td>95.632660</td>\n",
       "      <td>...</td>\n",
       "      <td>69.767223</td>\n",
       "      <td>35.412486</td>\n",
       "      <td>11.400474</td>\n",
       "      <td>83.229299</td>\n",
       "      <td>33.614541</td>\n",
       "      <td>32.197131</td>\n",
       "      <td>70.084671</td>\n",
       "      <td>62.194307</td>\n",
       "      <td>98.125431</td>\n",
       "      <td>33.419428</td>\n",
       "    </tr>\n",
       "    <tr>\n",
       "      <th>7560</th>\n",
       "      <td>64.450170</td>\n",
       "      <td>19.521552</td>\n",
       "      <td>55.998903</td>\n",
       "      <td>78.100894</td>\n",
       "      <td>164.098405</td>\n",
       "      <td>16.410981</td>\n",
       "      <td>55.510107</td>\n",
       "      <td>41.928294</td>\n",
       "      <td>63.479170</td>\n",
       "      <td>94.771942</td>\n",
       "      <td>...</td>\n",
       "      <td>69.011294</td>\n",
       "      <td>35.611873</td>\n",
       "      <td>11.358293</td>\n",
       "      <td>83.344519</td>\n",
       "      <td>33.116054</td>\n",
       "      <td>32.047618</td>\n",
       "      <td>69.044421</td>\n",
       "      <td>62.526890</td>\n",
       "      <td>97.896880</td>\n",
       "      <td>33.675040</td>\n",
       "    </tr>\n",
       "  </tbody>\n",
       "</table>\n",
       "<p>7561 rows × 500 columns</p>\n",
       "</div>"
      ],
      "text/plain": [
       "            0          1          2          3           4          5    \\\n",
       "0      1.000000   1.000000   1.000000   1.000000    1.000000   1.000000   \n",
       "1      0.989334   0.999331   1.006001   0.993450    1.000147   0.994620   \n",
       "2      1.001940   0.995662   0.982443   0.984356    0.990786   0.983374   \n",
       "3      0.999850   0.994210   0.984335   0.981182    1.002630   0.989503   \n",
       "4      1.004370   1.000339   0.988091   0.992400    0.999279   0.989310   \n",
       "...         ...        ...        ...        ...         ...        ...   \n",
       "7556  63.265174  19.722037  55.074120  76.708022  164.528061  16.642117   \n",
       "7557  62.994497  19.660743  55.417423  76.776453  165.743534  16.610219   \n",
       "7558  63.547818  19.508679  55.544682  77.309548  164.600949  16.609523   \n",
       "7559  64.009349  19.506928  55.594027  77.061639  163.803583  16.423137   \n",
       "7560  64.450170  19.521552  55.998903  78.100894  164.098405  16.410981   \n",
       "\n",
       "            6          7          8          9    ...        490        491  \\\n",
       "0      1.000000   1.000000   1.000000   1.000000  ...   1.000000   1.000000   \n",
       "1      1.009544   1.005591   0.992558   0.985351  ...   0.983773   0.993830   \n",
       "2      1.005366   1.001823   0.993692   0.983692  ...   0.979316   1.009225   \n",
       "3      1.022141   0.997598   0.981517   0.986520  ...   0.965321   1.008051   \n",
       "4      1.009973   1.000990   0.974270   0.969099  ...   0.969676   1.011464   \n",
       "...         ...        ...        ...        ...  ...        ...        ...   \n",
       "7556  55.426371  40.775846  63.735479  97.250347  ...  67.355144  35.902403   \n",
       "7557  55.224486  41.525189  63.414182  96.571719  ...  68.311881  35.628878   \n",
       "7558  54.744920  41.985137  64.246768  95.899274  ...  68.849354  35.560833   \n",
       "7559  55.443095  41.695531  63.816925  95.632660  ...  69.767223  35.412486   \n",
       "7560  55.510107  41.928294  63.479170  94.771942  ...  69.011294  35.611873   \n",
       "\n",
       "            492        493        494        495        496        497  \\\n",
       "0      1.000000   1.000000   1.000000   1.000000   1.000000   1.000000   \n",
       "1      0.994782   1.002960   0.997582   0.985160   0.997422   1.003759   \n",
       "2      1.011759   1.013489   1.000837   0.982464   1.000936   1.010186   \n",
       "3      1.014549   1.015408   0.998480   0.972431   1.000260   0.994685   \n",
       "4      1.014201   1.023112   1.003806   0.980842   0.999832   0.983737   \n",
       "...         ...        ...        ...        ...        ...        ...   \n",
       "7556  11.080356  82.532426  33.693324  32.164418  69.472426  61.874943   \n",
       "7557  11.157637  83.017047  33.566378  32.296327  69.740022  61.824081   \n",
       "7558  11.288588  83.756208  33.682405  32.317282  69.939218  61.968096   \n",
       "7559  11.400474  83.229299  33.614541  32.197131  70.084671  62.194307   \n",
       "7560  11.358293  83.344519  33.116054  32.047618  69.044421  62.526890   \n",
       "\n",
       "            498        499  \n",
       "0      1.000000   1.000000  \n",
       "1      1.003435   1.002071  \n",
       "2      0.984301   0.995754  \n",
       "3      0.970645   0.988779  \n",
       "4      0.965106   1.002743  \n",
       "...         ...        ...  \n",
       "7556  98.247662  33.018461  \n",
       "7557  97.964185  32.933812  \n",
       "7558  98.084953  33.543624  \n",
       "7559  98.125431  33.419428  \n",
       "7560  97.896880  33.675040  \n",
       "\n",
       "[7561 rows x 500 columns]"
      ]
     },
     "execution_count": 88,
     "metadata": {},
     "output_type": "execute_result"
    }
   ],
   "source": [
    "# Run the Monte Carlo simulation to forecast 30 years cumulative returns\n",
    "MC_30year.calc_cumulative_return()\n"
   ]
  },
  {
   "cell_type": "code",
   "execution_count": 91,
   "metadata": {},
   "outputs": [
    {
     "data": {
      "image/png": "[encoded data removed]",
      "text/plain": [
       "<Figure size 432x288 with 1 Axes>"
      ]
     },
     "metadata": {
      "needs_background": "light"
     },
     "output_type": "display_data"
    }
   ],
   "source": [
    "# Visualize the 30-year Monte Carlo simulation by creating an\n",
    "# overlay line plot\n",
    "MC_30year_sim_line_plot = MC_30year.plot_simulation()\n",
    "\n",
    "MC_30year_sim_line_plot.get_figure().savefig(\"MC_30year_sim_plot.png\",bbox_inches=\"tight\")"
   ]
  },
  {
   "cell_type": "markdown",
   "metadata": {},
   "source": [
    "#### Step 3: Plot the probability distribution of the Monte Carlo simulation."
   ]
  },
  {
   "cell_type": "code",
   "execution_count": 92,
   "metadata": {},
   "outputs": [
    {
     "data": {
      "image/png": "[encoded data removed]",
      "text/plain": [
       "<Figure size 432x288 with 1 Axes>"
      ]
     },
     "metadata": {
      "needs_background": "light"
     },
     "output_type": "display_data"
    }
   ],
   "source": [
    "# Visualize the probability distribution of the 30-year Monte Carlo simulation \n",
    "# by plotting a histogram\n",
    "MC_30year_sim_dist_plot = MC_30year.plot_distribution()\n",
    "\n",
    "MC_30year_sim_dist_plot.get_figure().savefig(\"MC_30year_sim_dist.png\",bbox_inches=\"tight\")"
   ]
  },
  {
   "cell_type": "markdown",
   "metadata": {},
   "source": [
    "#### Step 4: Generate the summary statistics for the Monte Carlo simulation."
   ]
  },
  {
   "cell_type": "code",
   "execution_count": 94,
   "metadata": {},
   "outputs": [
    {
     "name": "stdout",
     "output_type": "stream",
     "text": [
      "count           500.000000\n",
      "mean             51.391009\n",
      "std              40.774438\n",
      "min               4.489709\n",
      "25%              23.452551\n",
      "50%              39.951946\n",
      "75%              66.465105\n",
      "max             328.998180\n",
      "95% CI Lower     10.504629\n",
      "95% CI Upper    162.155862\n",
      "Name: 7560, dtype: float64\n"
     ]
    }
   ],
   "source": [
    "# Generate summary statistics from the 30-year Monte Carlo simulation results\n",
    "# Save the results as a variable\n",
    "MC_30year_summary_statistics = MC_30year.summarize_cumulative_return()\n",
    "\n",
    "\n",
    "# Review the 30-year Monte Carlo summary statistics\n",
    "print(MC_30year_summary_statistics)"
   ]
  },
  {
   "cell_type": "markdown",
   "metadata": {},
   "source": [
    "### Analyze the Retirement Portfolio Forecasts\n",
    "\n",
    "Using the current value of only the stock and bond portion of the member's portfolio and the summary statistics that you generated from the Monte Carlo simulation, answer the following question in your Jupyter notebook:\n",
    "\n",
    "-  What are the lower and upper bounds for the expected value of the portfolio with a 95% confidence interval?\n"
   ]
  },
  {
   "cell_type": "code",
   "execution_count": 95,
   "metadata": {},
   "outputs": [
    {
     "name": "stdout",
     "output_type": "stream",
     "text": [
      "The current balance of the stock and bond portfolio is $60690\n"
     ]
    }
   ],
   "source": [
    "# Print the current balance of the stock and bond portion of the members portfolio\n",
    "print(f\"The current balance of the stock and bond portfolio is ${round(total_stocks_bonds)}\")\n"
   ]
  },
  {
   "cell_type": "code",
   "execution_count": 98,
   "metadata": {},
   "outputs": [
    {
     "name": "stdout",
     "output_type": "stream",
     "text": [
      "There is a 95% chance that an current investment of $60689.5 in the portfolio over the next 30 years will end within in the range of $637521 and $9841158.\n"
     ]
    }
   ],
   "source": [
    "# Use the lower and upper `95%` confidence intervals to calculate the range of the possible outcomes for the current stock/bond portfolio\n",
    "ci_lower_thirty_cumulative_return = MC_30year_summary_statistics[8] * total_stocks_bonds\n",
    "ci_upper_thirty_cumulative_return = MC_30year_summary_statistics[9] * total_stocks_bonds\n",
    "\n",
    "# Print the result of your calculations\n",
    "print(f\"There is a 95% chance that an current investment of ${total_stocks_bonds} in the portfolio over the next 30 years \"\n",
    "      f\"will end within in the range of ${round(ci_lower_thirty_cumulative_return)} and ${round(ci_upper_thirty_cumulative_return)}.\")\n",
    "\n"
   ]
  },
  {
   "cell_type": "markdown",
   "metadata": {},
   "source": [
    "### Forecast Cumulative Returns in 10 Years\n",
    "\n",
    "The CTO of the credit union is impressed with your work on these planning tools but wonders if 30 years is a long time to wait until retirement. So, your next task is to adjust the retirement portfolio and run a new Monte Carlo simulation to find out if the changes will allow members to retire earlier.\n",
    "\n",
    "For this new Monte Carlo simulation, do the following: \n",
    "\n",
    "- Forecast the cumulative returns for 10 years from now. Because of the shortened investment horizon (30 years to 10 years), the portfolio needs to invest more heavily in the riskier asset&mdash;that is, stock&mdash;to help accumulate wealth for retirement. \n",
    "\n",
    "- Adjust the weights of the retirement portfolio so that the composition for the Monte Carlo simulation consists of 20% bonds and 80% stocks. \n",
    "\n",
    "- Run the simulation over 500 samples, and use the same data that the API call to Alpaca generated.\n",
    "\n",
    "- Based on the new Monte Carlo simulation, answer the following questions in your Jupyter notebook:\n",
    "\n",
    "    - Using the current value of only the stock and bond portion of the member's portfolio and the summary statistics that you generated from the new Monte Carlo simulation, what are the lower and upper bounds for the expected value of the portfolio (with the new weights) with a 95% confidence interval?\n",
    "\n",
    "    - Will weighting the portfolio more heavily toward stocks allow the credit union members to retire after only 10 years?\n"
   ]
  },
  {
   "cell_type": "code",
   "execution_count": 99,
   "metadata": {},
   "outputs": [
    {
     "data": {
      "text/html": [
       "<div>\n",
       "<style scoped>\n",
       "    .dataframe tbody tr th:only-of-type {\n",
       "        vertical-align: middle;\n",
       "    }\n",
       "\n",
       "    .dataframe tbody tr th {\n",
       "        vertical-align: top;\n",
       "    }\n",
       "\n",
       "    .dataframe thead tr th {\n",
       "        text-align: left;\n",
       "    }\n",
       "\n",
       "    .dataframe thead tr:last-of-type th {\n",
       "        text-align: right;\n",
       "    }\n",
       "</style>\n",
       "<table border=\"1\" class=\"dataframe\">\n",
       "  <thead>\n",
       "    <tr>\n",
       "      <th></th>\n",
       "      <th colspan=\"6\" halign=\"left\">AGG</th>\n",
       "      <th colspan=\"6\" halign=\"left\">SPY</th>\n",
       "    </tr>\n",
       "    <tr>\n",
       "      <th></th>\n",
       "      <th>open</th>\n",
       "      <th>high</th>\n",
       "      <th>low</th>\n",
       "      <th>close</th>\n",
       "      <th>volume</th>\n",
       "      <th>daily_return</th>\n",
       "      <th>open</th>\n",
       "      <th>high</th>\n",
       "      <th>low</th>\n",
       "      <th>close</th>\n",
       "      <th>volume</th>\n",
       "      <th>daily_return</th>\n",
       "    </tr>\n",
       "    <tr>\n",
       "      <th>time</th>\n",
       "      <th></th>\n",
       "      <th></th>\n",
       "      <th></th>\n",
       "      <th></th>\n",
       "      <th></th>\n",
       "      <th></th>\n",
       "      <th></th>\n",
       "      <th></th>\n",
       "      <th></th>\n",
       "      <th></th>\n",
       "      <th></th>\n",
       "      <th></th>\n",
       "    </tr>\n",
       "  </thead>\n",
       "  <tbody>\n",
       "    <tr>\n",
       "      <th>2019-01-22 00:00:00-05:00</th>\n",
       "      <td>106.44</td>\n",
       "      <td>108.510</td>\n",
       "      <td>106.44</td>\n",
       "      <td>106.455</td>\n",
       "      <td>6646771</td>\n",
       "      <td>NaN</td>\n",
       "      <td>264.82</td>\n",
       "      <td>265.06</td>\n",
       "      <td>261.0600</td>\n",
       "      <td>261.970</td>\n",
       "      <td>88775864</td>\n",
       "      <td>NaN</td>\n",
       "    </tr>\n",
       "    <tr>\n",
       "      <th>2019-01-23 00:00:00-05:00</th>\n",
       "      <td>106.38</td>\n",
       "      <td>106.590</td>\n",
       "      <td>106.37</td>\n",
       "      <td>106.530</td>\n",
       "      <td>2934313</td>\n",
       "      <td>0.000705</td>\n",
       "      <td>264.01</td>\n",
       "      <td>264.79</td>\n",
       "      <td>260.6600</td>\n",
       "      <td>263.100</td>\n",
       "      <td>74195206</td>\n",
       "      <td>0.004313</td>\n",
       "    </tr>\n",
       "    <tr>\n",
       "      <th>2019-01-24 00:00:00-05:00</th>\n",
       "      <td>106.72</td>\n",
       "      <td>106.840</td>\n",
       "      <td>106.67</td>\n",
       "      <td>106.730</td>\n",
       "      <td>6586980</td>\n",
       "      <td>0.001877</td>\n",
       "      <td>263.21</td>\n",
       "      <td>264.20</td>\n",
       "      <td>262.0800</td>\n",
       "      <td>263.690</td>\n",
       "      <td>48407752</td>\n",
       "      <td>0.002242</td>\n",
       "    </tr>\n",
       "    <tr>\n",
       "      <th>2019-01-25 00:00:00-05:00</th>\n",
       "      <td>106.64</td>\n",
       "      <td>106.700</td>\n",
       "      <td>106.56</td>\n",
       "      <td>106.675</td>\n",
       "      <td>3157633</td>\n",
       "      <td>-0.000515</td>\n",
       "      <td>265.61</td>\n",
       "      <td>266.70</td>\n",
       "      <td>263.6595</td>\n",
       "      <td>265.700</td>\n",
       "      <td>78094541</td>\n",
       "      <td>0.007623</td>\n",
       "    </tr>\n",
       "    <tr>\n",
       "      <th>2019-01-28 00:00:00-05:00</th>\n",
       "      <td>106.62</td>\n",
       "      <td>106.745</td>\n",
       "      <td>106.58</td>\n",
       "      <td>106.655</td>\n",
       "      <td>6372589</td>\n",
       "      <td>-0.000187</td>\n",
       "      <td>263.39</td>\n",
       "      <td>263.82</td>\n",
       "      <td>261.7900</td>\n",
       "      <td>263.635</td>\n",
       "      <td>75207990</td>\n",
       "      <td>-0.007772</td>\n",
       "    </tr>\n",
       "  </tbody>\n",
       "</table>\n",
       "</div>"
      ],
      "text/plain": [
       "                              AGG                                     \\\n",
       "                             open     high     low    close   volume   \n",
       "time                                                                   \n",
       "2019-01-22 00:00:00-05:00  106.44  108.510  106.44  106.455  6646771   \n",
       "2019-01-23 00:00:00-05:00  106.38  106.590  106.37  106.530  2934313   \n",
       "2019-01-24 00:00:00-05:00  106.72  106.840  106.67  106.730  6586980   \n",
       "2019-01-25 00:00:00-05:00  106.64  106.700  106.56  106.675  3157633   \n",
       "2019-01-28 00:00:00-05:00  106.62  106.745  106.58  106.655  6372589   \n",
       "\n",
       "                                           SPY                             \\\n",
       "                          daily_return    open    high       low    close   \n",
       "time                                                                        \n",
       "2019-01-22 00:00:00-05:00          NaN  264.82  265.06  261.0600  261.970   \n",
       "2019-01-23 00:00:00-05:00     0.000705  264.01  264.79  260.6600  263.100   \n",
       "2019-01-24 00:00:00-05:00     0.001877  263.21  264.20  262.0800  263.690   \n",
       "2019-01-25 00:00:00-05:00    -0.000515  265.61  266.70  263.6595  265.700   \n",
       "2019-01-28 00:00:00-05:00    -0.000187  263.39  263.82  261.7900  263.635   \n",
       "\n",
       "                                                  \n",
       "                             volume daily_return  \n",
       "time                                              \n",
       "2019-01-22 00:00:00-05:00  88775864          NaN  \n",
       "2019-01-23 00:00:00-05:00  74195206     0.004313  \n",
       "2019-01-24 00:00:00-05:00  48407752     0.002242  \n",
       "2019-01-25 00:00:00-05:00  78094541     0.007623  \n",
       "2019-01-28 00:00:00-05:00  75207990    -0.007772  "
      ]
     },
     "execution_count": 99,
     "metadata": {},
     "output_type": "execute_result"
    }
   ],
   "source": [
    "# Configure a Monte Carlo simulation to forecast 10 years cumulative returns\n",
    "# The weights should be split 20% to AGG and 80% to SPY.\n",
    "# Run 500 samples.\n",
    "MC_10year = MCSimulation(\n",
    "    portfolio_data = prices_df,\n",
    "    weights = [0.2,0.8],\n",
    "    num_simulation = 500,\n",
    "    num_trading_days = 252*10\n",
    ")\n",
    "\n",
    "# Review the simulation input data\n",
    "MC_10year.portfolio_data.head()\n"
   ]
  },
  {
   "cell_type": "code",
   "execution_count": 100,
   "metadata": {},
   "outputs": [
    {
     "name": "stdout",
     "output_type": "stream",
     "text": [
      "Running Monte Carlo simulation number 0.\n",
      "Running Monte Carlo simulation number 10.\n",
      "Running Monte Carlo simulation number 20.\n",
      "Running Monte Carlo simulation number 30.\n",
      "Running Monte Carlo simulation number 40.\n",
      "Running Monte Carlo simulation number 50.\n",
      "Running Monte Carlo simulation number 60.\n",
      "Running Monte Carlo simulation number 70.\n",
      "Running Monte Carlo simulation number 80.\n",
      "Running Monte Carlo simulation number 90.\n",
      "Running Monte Carlo simulation number 100.\n"
     ]
    },
    {
     "name": "stderr",
     "output_type": "stream",
     "text": [
      "C:\\FinTech\\Challenges\\Columbia_Fintech_Module5\\MCForecastTools.py:117: PerformanceWarning: DataFrame is highly fragmented.  This is usually the result of calling `frame.insert` many times, which has poor performance.  Consider joining all columns at once using pd.concat(axis=1) instead.  To get a de-fragmented frame, use `newframe = frame.copy()`\n",
      "  portfolio_cumulative_returns[n] = (1 + sim_df.fillna(0)).cumprod()\n"
     ]
    },
    {
     "name": "stdout",
     "output_type": "stream",
     "text": [
      "Running Monte Carlo simulation number 110.\n",
      "Running Monte Carlo simulation number 120.\n",
      "Running Monte Carlo simulation number 130.\n",
      "Running Monte Carlo simulation number 140.\n",
      "Running Monte Carlo simulation number 150.\n",
      "Running Monte Carlo simulation number 160.\n",
      "Running Monte Carlo simulation number 170.\n",
      "Running Monte Carlo simulation number 180.\n",
      "Running Monte Carlo simulation number 190.\n",
      "Running Monte Carlo simulation number 200.\n",
      "Running Monte Carlo simulation number 210.\n",
      "Running Monte Carlo simulation number 220.\n",
      "Running Monte Carlo simulation number 230.\n",
      "Running Monte Carlo simulation number 240.\n",
      "Running Monte Carlo simulation number 250.\n",
      "Running Monte Carlo simulation number 260.\n",
      "Running Monte Carlo simulation number 270.\n",
      "Running Monte Carlo simulation number 280.\n",
      "Running Monte Carlo simulation number 290.\n",
      "Running Monte Carlo simulation number 300.\n",
      "Running Monte Carlo simulation number 310.\n",
      "Running Monte Carlo simulation number 320.\n",
      "Running Monte Carlo simulation number 330.\n",
      "Running Monte Carlo simulation number 340.\n",
      "Running Monte Carlo simulation number 350.\n",
      "Running Monte Carlo simulation number 360.\n",
      "Running Monte Carlo simulation number 370.\n",
      "Running Monte Carlo simulation number 380.\n",
      "Running Monte Carlo simulation number 390.\n",
      "Running Monte Carlo simulation number 400.\n",
      "Running Monte Carlo simulation number 410.\n",
      "Running Monte Carlo simulation number 420.\n",
      "Running Monte Carlo simulation number 430.\n",
      "Running Monte Carlo simulation number 440.\n",
      "Running Monte Carlo simulation number 450.\n",
      "Running Monte Carlo simulation number 460.\n",
      "Running Monte Carlo simulation number 470.\n",
      "Running Monte Carlo simulation number 480.\n",
      "Running Monte Carlo simulation number 490.\n"
     ]
    },
    {
     "data": {
      "text/html": [
       "<div>\n",
       "<style scoped>\n",
       "    .dataframe tbody tr th:only-of-type {\n",
       "        vertical-align: middle;\n",
       "    }\n",
       "\n",
       "    .dataframe tbody tr th {\n",
       "        vertical-align: top;\n",
       "    }\n",
       "\n",
       "    .dataframe thead th {\n",
       "        text-align: right;\n",
       "    }\n",
       "</style>\n",
       "<table border=\"1\" class=\"dataframe\">\n",
       "  <thead>\n",
       "    <tr style=\"text-align: right;\">\n",
       "      <th></th>\n",
       "      <th>0</th>\n",
       "      <th>1</th>\n",
       "      <th>2</th>\n",
       "      <th>3</th>\n",
       "      <th>4</th>\n",
       "      <th>5</th>\n",
       "      <th>6</th>\n",
       "      <th>7</th>\n",
       "      <th>8</th>\n",
       "      <th>9</th>\n",
       "      <th>...</th>\n",
       "      <th>490</th>\n",
       "      <th>491</th>\n",
       "      <th>492</th>\n",
       "      <th>493</th>\n",
       "      <th>494</th>\n",
       "      <th>495</th>\n",
       "      <th>496</th>\n",
       "      <th>497</th>\n",
       "      <th>498</th>\n",
       "      <th>499</th>\n",
       "    </tr>\n",
       "  </thead>\n",
       "  <tbody>\n",
       "    <tr>\n",
       "      <th>0</th>\n",
       "      <td>1.000000</td>\n",
       "      <td>1.000000</td>\n",
       "      <td>1.000000</td>\n",
       "      <td>1.000000</td>\n",
       "      <td>1.000000</td>\n",
       "      <td>1.000000</td>\n",
       "      <td>1.000000</td>\n",
       "      <td>1.000000</td>\n",
       "      <td>1.000000</td>\n",
       "      <td>1.000000</td>\n",
       "      <td>...</td>\n",
       "      <td>1.000000</td>\n",
       "      <td>1.000000</td>\n",
       "      <td>1.000000</td>\n",
       "      <td>1.000000</td>\n",
       "      <td>1.000000</td>\n",
       "      <td>1.000000</td>\n",
       "      <td>1.000000</td>\n",
       "      <td>1.000000</td>\n",
       "      <td>1.000000</td>\n",
       "      <td>1.000000</td>\n",
       "    </tr>\n",
       "    <tr>\n",
       "      <th>1</th>\n",
       "      <td>0.965445</td>\n",
       "      <td>1.005668</td>\n",
       "      <td>0.994573</td>\n",
       "      <td>0.998007</td>\n",
       "      <td>1.022126</td>\n",
       "      <td>0.999492</td>\n",
       "      <td>0.991473</td>\n",
       "      <td>1.007618</td>\n",
       "      <td>1.015747</td>\n",
       "      <td>1.002864</td>\n",
       "      <td>...</td>\n",
       "      <td>1.003862</td>\n",
       "      <td>1.002875</td>\n",
       "      <td>0.983000</td>\n",
       "      <td>1.015379</td>\n",
       "      <td>1.003809</td>\n",
       "      <td>0.988886</td>\n",
       "      <td>1.000928</td>\n",
       "      <td>1.007057</td>\n",
       "      <td>1.003286</td>\n",
       "      <td>0.987177</td>\n",
       "    </tr>\n",
       "    <tr>\n",
       "      <th>2</th>\n",
       "      <td>0.969276</td>\n",
       "      <td>1.007983</td>\n",
       "      <td>1.007855</td>\n",
       "      <td>1.011311</td>\n",
       "      <td>1.019867</td>\n",
       "      <td>1.009367</td>\n",
       "      <td>0.985089</td>\n",
       "      <td>1.011067</td>\n",
       "      <td>1.008835</td>\n",
       "      <td>0.999551</td>\n",
       "      <td>...</td>\n",
       "      <td>1.022270</td>\n",
       "      <td>1.001358</td>\n",
       "      <td>0.984795</td>\n",
       "      <td>1.023648</td>\n",
       "      <td>0.991046</td>\n",
       "      <td>0.980072</td>\n",
       "      <td>1.000620</td>\n",
       "      <td>0.996525</td>\n",
       "      <td>1.005435</td>\n",
       "      <td>0.966528</td>\n",
       "    </tr>\n",
       "    <tr>\n",
       "      <th>3</th>\n",
       "      <td>0.979732</td>\n",
       "      <td>1.013439</td>\n",
       "      <td>1.008401</td>\n",
       "      <td>1.027305</td>\n",
       "      <td>1.017755</td>\n",
       "      <td>1.014626</td>\n",
       "      <td>0.986216</td>\n",
       "      <td>1.025390</td>\n",
       "      <td>0.995367</td>\n",
       "      <td>1.000697</td>\n",
       "      <td>...</td>\n",
       "      <td>1.017459</td>\n",
       "      <td>1.020268</td>\n",
       "      <td>0.983652</td>\n",
       "      <td>1.032562</td>\n",
       "      <td>0.979709</td>\n",
       "      <td>0.974868</td>\n",
       "      <td>0.998810</td>\n",
       "      <td>0.975346</td>\n",
       "      <td>1.002396</td>\n",
       "      <td>0.949372</td>\n",
       "    </tr>\n",
       "    <tr>\n",
       "      <th>4</th>\n",
       "      <td>0.988048</td>\n",
       "      <td>1.008444</td>\n",
       "      <td>0.992837</td>\n",
       "      <td>1.012783</td>\n",
       "      <td>0.996291</td>\n",
       "      <td>1.011814</td>\n",
       "      <td>0.986994</td>\n",
       "      <td>1.021178</td>\n",
       "      <td>0.990852</td>\n",
       "      <td>0.994965</td>\n",
       "      <td>...</td>\n",
       "      <td>1.014092</td>\n",
       "      <td>1.017608</td>\n",
       "      <td>0.981314</td>\n",
       "      <td>1.028252</td>\n",
       "      <td>0.968584</td>\n",
       "      <td>0.954958</td>\n",
       "      <td>1.015382</td>\n",
       "      <td>0.968932</td>\n",
       "      <td>0.988814</td>\n",
       "      <td>0.958725</td>\n",
       "    </tr>\n",
       "    <tr>\n",
       "      <th>...</th>\n",
       "      <td>...</td>\n",
       "      <td>...</td>\n",
       "      <td>...</td>\n",
       "      <td>...</td>\n",
       "      <td>...</td>\n",
       "      <td>...</td>\n",
       "      <td>...</td>\n",
       "      <td>...</td>\n",
       "      <td>...</td>\n",
       "      <td>...</td>\n",
       "      <td>...</td>\n",
       "      <td>...</td>\n",
       "      <td>...</td>\n",
       "      <td>...</td>\n",
       "      <td>...</td>\n",
       "      <td>...</td>\n",
       "      <td>...</td>\n",
       "      <td>...</td>\n",
       "      <td>...</td>\n",
       "      <td>...</td>\n",
       "      <td>...</td>\n",
       "    </tr>\n",
       "    <tr>\n",
       "      <th>2516</th>\n",
       "      <td>4.190863</td>\n",
       "      <td>1.721977</td>\n",
       "      <td>6.517177</td>\n",
       "      <td>3.978035</td>\n",
       "      <td>3.808111</td>\n",
       "      <td>6.148606</td>\n",
       "      <td>6.344038</td>\n",
       "      <td>1.641225</td>\n",
       "      <td>2.289289</td>\n",
       "      <td>4.421431</td>\n",
       "      <td>...</td>\n",
       "      <td>5.314014</td>\n",
       "      <td>5.635818</td>\n",
       "      <td>6.021339</td>\n",
       "      <td>3.843643</td>\n",
       "      <td>4.589451</td>\n",
       "      <td>8.276803</td>\n",
       "      <td>2.095284</td>\n",
       "      <td>2.258685</td>\n",
       "      <td>3.092692</td>\n",
       "      <td>3.038050</td>\n",
       "    </tr>\n",
       "    <tr>\n",
       "      <th>2517</th>\n",
       "      <td>4.185503</td>\n",
       "      <td>1.728061</td>\n",
       "      <td>6.463309</td>\n",
       "      <td>3.936853</td>\n",
       "      <td>3.774456</td>\n",
       "      <td>6.129744</td>\n",
       "      <td>6.367958</td>\n",
       "      <td>1.576208</td>\n",
       "      <td>2.302568</td>\n",
       "      <td>4.422602</td>\n",
       "      <td>...</td>\n",
       "      <td>5.356364</td>\n",
       "      <td>5.558721</td>\n",
       "      <td>5.994207</td>\n",
       "      <td>3.919226</td>\n",
       "      <td>4.543652</td>\n",
       "      <td>8.205390</td>\n",
       "      <td>2.097252</td>\n",
       "      <td>2.230930</td>\n",
       "      <td>3.167003</td>\n",
       "      <td>2.997911</td>\n",
       "    </tr>\n",
       "    <tr>\n",
       "      <th>2518</th>\n",
       "      <td>4.205295</td>\n",
       "      <td>1.724137</td>\n",
       "      <td>6.421829</td>\n",
       "      <td>3.932883</td>\n",
       "      <td>3.797242</td>\n",
       "      <td>6.206314</td>\n",
       "      <td>6.300762</td>\n",
       "      <td>1.596051</td>\n",
       "      <td>2.272709</td>\n",
       "      <td>4.437380</td>\n",
       "      <td>...</td>\n",
       "      <td>5.399651</td>\n",
       "      <td>5.483432</td>\n",
       "      <td>6.100258</td>\n",
       "      <td>3.900092</td>\n",
       "      <td>4.623296</td>\n",
       "      <td>8.236930</td>\n",
       "      <td>2.061269</td>\n",
       "      <td>2.245912</td>\n",
       "      <td>3.163751</td>\n",
       "      <td>2.995383</td>\n",
       "    </tr>\n",
       "    <tr>\n",
       "      <th>2519</th>\n",
       "      <td>4.161969</td>\n",
       "      <td>1.700463</td>\n",
       "      <td>6.337536</td>\n",
       "      <td>3.937628</td>\n",
       "      <td>3.807437</td>\n",
       "      <td>6.296564</td>\n",
       "      <td>6.407568</td>\n",
       "      <td>1.618584</td>\n",
       "      <td>2.309703</td>\n",
       "      <td>4.451621</td>\n",
       "      <td>...</td>\n",
       "      <td>5.493253</td>\n",
       "      <td>5.443319</td>\n",
       "      <td>6.073028</td>\n",
       "      <td>3.858270</td>\n",
       "      <td>4.669319</td>\n",
       "      <td>8.339876</td>\n",
       "      <td>2.078162</td>\n",
       "      <td>2.272661</td>\n",
       "      <td>3.194556</td>\n",
       "      <td>3.058456</td>\n",
       "    </tr>\n",
       "    <tr>\n",
       "      <th>2520</th>\n",
       "      <td>4.141783</td>\n",
       "      <td>1.688905</td>\n",
       "      <td>6.282912</td>\n",
       "      <td>3.927327</td>\n",
       "      <td>3.811828</td>\n",
       "      <td>6.425858</td>\n",
       "      <td>6.434093</td>\n",
       "      <td>1.658966</td>\n",
       "      <td>2.329175</td>\n",
       "      <td>4.435763</td>\n",
       "      <td>...</td>\n",
       "      <td>5.427911</td>\n",
       "      <td>5.413056</td>\n",
       "      <td>6.007540</td>\n",
       "      <td>3.875278</td>\n",
       "      <td>4.701106</td>\n",
       "      <td>8.174141</td>\n",
       "      <td>2.076776</td>\n",
       "      <td>2.299903</td>\n",
       "      <td>3.197602</td>\n",
       "      <td>3.067879</td>\n",
       "    </tr>\n",
       "  </tbody>\n",
       "</table>\n",
       "<p>2521 rows × 500 columns</p>\n",
       "</div>"
      ],
      "text/plain": [
       "           0         1         2         3         4         5         6    \\\n",
       "0     1.000000  1.000000  1.000000  1.000000  1.000000  1.000000  1.000000   \n",
       "1     0.965445  1.005668  0.994573  0.998007  1.022126  0.999492  0.991473   \n",
       "2     0.969276  1.007983  1.007855  1.011311  1.019867  1.009367  0.985089   \n",
       "3     0.979732  1.013439  1.008401  1.027305  1.017755  1.014626  0.986216   \n",
       "4     0.988048  1.008444  0.992837  1.012783  0.996291  1.011814  0.986994   \n",
       "...        ...       ...       ...       ...       ...       ...       ...   \n",
       "2516  4.190863  1.721977  6.517177  3.978035  3.808111  6.148606  6.344038   \n",
       "2517  4.185503  1.728061  6.463309  3.936853  3.774456  6.129744  6.367958   \n",
       "2518  4.205295  1.724137  6.421829  3.932883  3.797242  6.206314  6.300762   \n",
       "2519  4.161969  1.700463  6.337536  3.937628  3.807437  6.296564  6.407568   \n",
       "2520  4.141783  1.688905  6.282912  3.927327  3.811828  6.425858  6.434093   \n",
       "\n",
       "           7         8         9    ...       490       491       492  \\\n",
       "0     1.000000  1.000000  1.000000  ...  1.000000  1.000000  1.000000   \n",
       "1     1.007618  1.015747  1.002864  ...  1.003862  1.002875  0.983000   \n",
       "2     1.011067  1.008835  0.999551  ...  1.022270  1.001358  0.984795   \n",
       "3     1.025390  0.995367  1.000697  ...  1.017459  1.020268  0.983652   \n",
       "4     1.021178  0.990852  0.994965  ...  1.014092  1.017608  0.981314   \n",
       "...        ...       ...       ...  ...       ...       ...       ...   \n",
       "2516  1.641225  2.289289  4.421431  ...  5.314014  5.635818  6.021339   \n",
       "2517  1.576208  2.302568  4.422602  ...  5.356364  5.558721  5.994207   \n",
       "2518  1.596051  2.272709  4.437380  ...  5.399651  5.483432  6.100258   \n",
       "2519  1.618584  2.309703  4.451621  ...  5.493253  5.443319  6.073028   \n",
       "2520  1.658966  2.329175  4.435763  ...  5.427911  5.413056  6.007540   \n",
       "\n",
       "           493       494       495       496       497       498       499  \n",
       "0     1.000000  1.000000  1.000000  1.000000  1.000000  1.000000  1.000000  \n",
       "1     1.015379  1.003809  0.988886  1.000928  1.007057  1.003286  0.987177  \n",
       "2     1.023648  0.991046  0.980072  1.000620  0.996525  1.005435  0.966528  \n",
       "3     1.032562  0.979709  0.974868  0.998810  0.975346  1.002396  0.949372  \n",
       "4     1.028252  0.968584  0.954958  1.015382  0.968932  0.988814  0.958725  \n",
       "...        ...       ...       ...       ...       ...       ...       ...  \n",
       "2516  3.843643  4.589451  8.276803  2.095284  2.258685  3.092692  3.038050  \n",
       "2517  3.919226  4.543652  8.205390  2.097252  2.230930  3.167003  2.997911  \n",
       "2518  3.900092  4.623296  8.236930  2.061269  2.245912  3.163751  2.995383  \n",
       "2519  3.858270  4.669319  8.339876  2.078162  2.272661  3.194556  3.058456  \n",
       "2520  3.875278  4.701106  8.174141  2.076776  2.299903  3.197602  3.067879  \n",
       "\n",
       "[2521 rows x 500 columns]"
      ]
     },
     "execution_count": 100,
     "metadata": {},
     "output_type": "execute_result"
    }
   ],
   "source": [
    "# Run the Monte Carlo simulation to forecast 10 years cumulative returns\n",
    "MC_10year.calc_cumulative_return()\n"
   ]
  },
  {
   "cell_type": "code",
   "execution_count": 103,
   "metadata": {},
   "outputs": [
    {
     "data": {
      "image/png": "[encoded data removed]",
      "text/plain": [
       "<Figure size 432x288 with 1 Axes>"
      ]
     },
     "metadata": {
      "needs_background": "light"
     },
     "output_type": "display_data"
    }
   ],
   "source": [
    "# Visualize the 10-year Monte Carlo simulation by creating an\n",
    "# overlay line plot\n",
    "MC_10year_sim_line_plot = MC_10year.plot_simulation()\n",
    "\n",
    "MC_10year_sim_line_plot.get_figure().savefig(\"MC_10year_sim_plot.png\",bbox_inches=\"tight\")\n"
   ]
  },
  {
   "cell_type": "code",
   "execution_count": 104,
   "metadata": {},
   "outputs": [
    {
     "data": {
      "image/png": "[encoded data removed]",
      "text/plain": [
       "<Figure size 432x288 with 1 Axes>"
      ]
     },
     "metadata": {
      "needs_background": "light"
     },
     "output_type": "display_data"
    }
   ],
   "source": [
    "# Visualize the probability distribution of the 10-year Monte Carlo simulation \n",
    "# by plotting a histogram\n",
    "MC_10year_sim_dist_plot = MC_10year.plot_distribution()\n",
    "\n",
    "MC_10year_sim_dist_plot.get_figure().savefig(\"MC_10year_sim_dist.png\",bbox_inches=\"tight\")\n"
   ]
  },
  {
   "cell_type": "code",
   "execution_count": 105,
   "metadata": {},
   "outputs": [
    {
     "name": "stdout",
     "output_type": "stream",
     "text": [
      "count           500.000000\n",
      "mean              5.531712\n",
      "std               3.399579\n",
      "min               1.247765\n",
      "25%               3.311414\n",
      "50%               4.700131\n",
      "75%               6.781028\n",
      "max              25.175197\n",
      "95% CI Lower      1.657367\n",
      "95% CI Upper     14.873846\n",
      "Name: 2520, dtype: float64\n"
     ]
    }
   ],
   "source": [
    "# Generate summary statistics from the 10-year Monte Carlo simulation results\n",
    "# Save the results as a variable\n",
    "MC_10year_summary_statistics = MC_10year.summarize_cumulative_return()\n",
    "\n",
    "\n",
    "# Review the 10-year Monte Carlo summary statistics\n",
    "print(MC_10year_summary_statistics)"
   ]
  },
  {
   "cell_type": "markdown",
   "metadata": {},
   "source": [
    "### Answer the following questions:"
   ]
  },
  {
   "cell_type": "markdown",
   "metadata": {},
   "source": [
    "#### Question: Using the current value of only the stock and bond portion of the member's portfolio and the summary statistics that you generated from the new Monte Carlo simulation, what are the lower and upper bounds for the expected value of the portfolio (with the new weights) with a 95% confidence interval?"
   ]
  },
  {
   "cell_type": "code",
   "execution_count": 106,
   "metadata": {},
   "outputs": [
    {
     "name": "stdout",
     "output_type": "stream",
     "text": [
      "The current balance of the stock and bond portfolio is $60690\n"
     ]
    }
   ],
   "source": [
    "# Print the current balance of the stock and bond portion of the members portfolio\n",
    "print(f\"The current balance of the stock and bond portfolio is ${round(total_stocks_bonds)}\")\n"
   ]
  },
  {
   "cell_type": "code",
   "execution_count": 107,
   "metadata": {},
   "outputs": [
    {
     "name": "stdout",
     "output_type": "stream",
     "text": [
      "There is a 95% chance that an current investment of $60689.5 in the portfolio over the next 10 years will end within in the range of $100585 and $902686.\n"
     ]
    }
   ],
   "source": [
    "# Use the lower and upper `95%` confidence intervals to calculate the range of the possible outcomes for the current stock/bond portfolio\n",
    "ci_lower_ten_cumulative_return = MC_10year_summary_statistics[8] * total_stocks_bonds\n",
    "ci_upper_ten_cumulative_return = MC_10year_summary_statistics[9] * total_stocks_bonds\n",
    "\n",
    "# Print the result of your calculations\n",
    "print(f\"There is a 95% chance that an current investment of ${total_stocks_bonds} in the portfolio over the next 10 years \"\n",
    "      f\"will end within in the range of ${round(ci_lower_ten_cumulative_return)} and ${round(ci_upper_ten_cumulative_return)}.\")\n"
   ]
  },
  {
   "cell_type": "markdown",
   "metadata": {},
   "source": [
    "#### Question: Will weighting the portfolio more heavily to stocks allow the credit union members to retire after only 10 years?"
   ]
  },
  {
   "cell_type": "raw",
   "metadata": {},
   "source": [
    "**Answer** # YOUR ANSWER HERE"
   ]
  },
  {
   "cell_type": "code",
   "execution_count": null,
   "metadata": {},
   "outputs": [],
   "source": [
    "One would expect that heavily weighing portfolio to stocks does bring in higher volatility. \n",
    "However, annualizing the standard deviation i.e. 30_year_std / sqrt(30) and 10_year_std / sqrt(10) respectively reveals that stocks_heavy_portfolio has lower standard deviation and lower annual mean.\n",
    "For stock heavy portfolio, annualized standardardization is 1.07 and annualized mean is 0.55\n",
    "For bond heavy portfolio, annualized standardardization is 7.44 and annualized mean is 1.7\n",
    "\n",
    "Based on above observation, I will recommend bond heavy portfolio. \n",
    "\n",
    "Now based on 95% confidence observation, the stock heavy portfolio for 10 years will become approx. $900k, whereas bond heavy portfolio invested for 30 years will become approx. $9.8mn. \n",
    "The difference is almost 10x. \n",
    "Based on mean observations, the stock heavy portfolio for 10 years will become approx. $367k, whereas bond heavy portfolio invested for 30 years will become approx. $3.4mn. \n",
    "The difference is almost 9x.\n",
    "Once again, based on above observations, I will not recommend to retire after 10 years assuming you invest in stock heavy portfolio.\n",
    "\n",
    "However, if one assumes that $367k is enough to retire on average, then the answer is yes. The union members can retire by investing in stock heavy portfolio for 10 years."
   ]
  }
 ],
 "metadata": {
  "kernelspec": {
   "display_name": "Python 3 (ipykernel)",
   "language": "python",
   "name": "python3"
  },
  "language_info": {
   "codemirror_mode": {
    "name": "ipython",
    "version": 3
   },
   "file_extension": ".py",
   "mimetype": "text/x-python",
   "name": "python",
   "nbconvert_exporter": "python",
   "pygments_lexer": "ipython3",
   "version": "3.7.11"
  }
 },
 "nbformat": 4,
 "nbformat_minor": 4
}
